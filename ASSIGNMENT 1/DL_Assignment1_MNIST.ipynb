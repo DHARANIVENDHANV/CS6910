{
 "cells": [
  {
   "cell_type": "markdown",
   "id": "e07c4566",
   "metadata": {},
   "source": [
    "## Importing Libraries And Downloading Data"
   ]
  },
  {
   "cell_type": "code",
   "execution_count": 1,
   "id": "d8163f30",
   "metadata": {
    "scrolled": true
   },
   "outputs": [],
   "source": [
    "import numpy as np\n",
    "import pandas as pd\n",
    "from keras.datasets import mnist\n",
    "import matplotlib.pyplot as plt\n",
    "import random\n",
    "import math\n",
    "from sklearn.model_selection import train_test_split\n",
    "import wandb\n"
   ]
  },
  {
   "cell_type": "code",
   "execution_count": 2,
   "id": "c80f8fd4",
   "metadata": {},
   "outputs": [
    {
     "name": "stderr",
     "output_type": "stream",
     "text": [
      "\u001b[34m\u001b[1mwandb\u001b[0m: Currently logged in as: \u001b[33mdharanivendhanv01\u001b[0m (use `wandb login --relogin` to force relogin)\n",
      "\u001b[34m\u001b[1mwandb\u001b[0m: wandb version 0.14.0 is available!  To upgrade, please run:\n",
      "\u001b[34m\u001b[1mwandb\u001b[0m:  $ pip install wandb --upgrade\n"
     ]
    },
    {
     "data": {
      "text/html": [
       "\n",
       "                Tracking run with wandb version 0.10.8<br/>\n",
       "                Syncing run <strong style=\"color:#cdcd00\">honest-frost-5</strong> to <a href=\"https://wandb.ai\" target=\"_blank\">Weights & Biases</a> <a href=\"https://docs.wandb.com/integrations/jupyter.html\" target=\"_blank\">(Documentation)</a>.<br/>\n",
       "                Project page: <a href=\"https://wandb.ai/dharanivendhanv01/Deep%20Learning%20Assignment\" target=\"_blank\">https://wandb.ai/dharanivendhanv01/Deep%20Learning%20Assignment</a><br/>\n",
       "                Run page: <a href=\"https://wandb.ai/dharanivendhanv01/Deep%20Learning%20Assignment/runs/4a51ffzo\" target=\"_blank\">https://wandb.ai/dharanivendhanv01/Deep%20Learning%20Assignment/runs/4a51ffzo</a><br/>\n",
       "                Run data is saved locally in <code>wandb\\run-20230319_004239-4a51ffzo</code><br/><br/>\n",
       "            "
      ],
      "text/plain": [
       "<IPython.core.display.HTML object>"
      ]
     },
     "metadata": {},
     "output_type": "display_data"
    },
    {
     "data": {
      "text/html": [
       "<h1>Run(4a51ffzo)</h1><p></p><iframe src=\"https://wandb.ai/dharanivendhanv01/Deep%20Learning%20Assignment/runs/4a51ffzo\" style=\"border:none;width:100%;height:400px\"></iframe>"
      ],
      "text/plain": [
       "<wandb.sdk.wandb_run.Run at 0x219ee5b94c0>"
      ]
     },
     "execution_count": 2,
     "metadata": {},
     "output_type": "execute_result"
    }
   ],
   "source": [
    "wandb.login()\n",
    "wandb.init(project = \"Deep Learning Assignment\")\n"
   ]
  },
  {
   "cell_type": "markdown",
   "id": "19fa8607",
   "metadata": {},
   "source": [
    "### Splitting data"
   ]
  },
  {
   "cell_type": "code",
   "execution_count": 5,
   "id": "5cbf1863",
   "metadata": {},
   "outputs": [
    {
     "data": {
      "text/plain": [
       "(54000, 28, 28)"
      ]
     },
     "execution_count": 5,
     "metadata": {},
     "output_type": "execute_result"
    }
   ],
   "source": [
    "#splitting the data\n",
    "\n",
    "(x1,y1),(x2,y2) = mnist.load_data()\n",
    "x1 = x1 / 255.0\n",
    "x2 = x2 / 255.0\n",
    "x_train1,x_test2,y_train1,y_test2 = train_test_split(x1 , y1 , test_size = 0.1 , random_state = 0)"
   ]
  },
  {
   "cell_type": "markdown",
   "id": "bcdb297b",
   "metadata": {},
   "source": [
    "### Data preprocessing"
   ]
  },
  {
   "cell_type": "code",
   "execution_count": 6,
   "id": "d1de0dfa",
   "metadata": {},
   "outputs": [
    {
     "name": "stdout",
     "output_type": "stream",
     "text": [
      "without one-hot encoding\n",
      "shape of x_train : (784, 54000)\n",
      "shape of y_train : (1, 54000)\n",
      "shape of x_test  : (784, 6000)\n",
      "shape of y_test  : (1, 6000)\n"
     ]
    }
   ],
   "source": [
    "x_train = x_train1.reshape(54000,784).T\n",
    "y1_train = y_train1.reshape(54000,1).T\n",
    "x_test  = x_test2.reshape(6000,784).T\n",
    "y1_test  = y_test2.reshape(6000,1).T\n",
    "print(\"without one-hot encoding\")\n",
    "print(\"shape of x_train :\",x_train.shape)\n",
    "print(\"shape of y_train :\",y1_train.shape)\n",
    "print(\"shape of x_test  :\",x_test.shape)\n",
    "print(\"shape of y_test  :\",y1_test.shape)"
   ]
  },
  {
   "cell_type": "code",
   "execution_count": 7,
   "id": "35e1f72b",
   "metadata": {},
   "outputs": [],
   "source": [
    "#one hot encoding\n",
    "\n",
    "y_train = np.zeros((10,y1_train.shape[1]))\n",
    "for i in range(0,y1_train.shape[1]):\n",
    "    for j in range(0,10):\n",
    "        if y1_train[0,i] == j:\n",
    "            y_train[j,i] = 1\n",
    "            \n",
    "y_test = np.zeros((10,y1_test.shape[1]))\n",
    "for i in range(0,y1_test.shape[1]):\n",
    "    for j in range(0,10):\n",
    "        if y1_test[0,i] == j:\n",
    "            y_test[j,i] = 1\n"
   ]
  },
  {
   "cell_type": "markdown",
   "id": "c0f2f674",
   "metadata": {},
   "source": [
    "num_classes = y_train.shape[0]\n",
    "class_name = {0: \"T-shirt/top\", 1: \"Trouser\", 2: \"Pullover\", 3: \"Dress\", 4: \"Coat\", 5: \"Sandal\", 6: \"Shirt\", 7: \"Sneaker\", 8: \"Bag\", 9: \"Ankle boot\"}\n",
    "print(\"after one_hot encoding\")\n",
    "print(\"number of classes:\",num_classes)\n",
    "print(\"shape of x_train :\",x_train.shape)\n",
    "print(\"shape of y_train :\",y_train.shape)\n",
    "print(\"shape of x_test  :\",x_test.shape)\n",
    "print(\"shape of y_test  :\",y_test.shape)\n"
   ]
  },
  {
   "cell_type": "markdown",
   "id": "7aecbd34",
   "metadata": {},
   "source": [
    "### Logging sample images"
   ]
  },
  {
   "cell_type": "markdown",
   "id": "cdedc45f",
   "metadata": {},
   "source": [
    "images_list = []\n",
    "classes_list = []\n",
    "i = 0\n",
    "\n",
    "for j in range(y1_train.shape[1]):\n",
    "        \n",
    "        if y1_train[0,j] == i and i<=9:\n",
    "            images = x_train[:,j].reshape(28,28)\n",
    "            images_list.append(images)\n",
    "            classes_list.append(class_name[y1_train[0,j]])\n",
    "            i = i+1\n",
    "        else:\n",
    "            j = j+1\n",
    "            \n",
    "for i in range(num_classes):\n",
    "    \n",
    "    plt.imshow(images_list[i])\n",
    "    plt.title(classes_list[i])\n",
    "    plt.show()"
   ]
  },
  {
   "cell_type": "markdown",
   "id": "0e0573e0",
   "metadata": {},
   "source": [
    "wandb.log({\"Qn 1\":[wandb.Image(img,caption = caption) for img,caption in zip(images_list,classes_list)]})"
   ]
  },
  {
   "cell_type": "markdown",
   "id": "87beaf77",
   "metadata": {},
   "source": [
    "## Neural Network models "
   ]
  },
  {
   "cell_type": "markdown",
   "id": "27706b0d",
   "metadata": {},
   "source": [
    "#### Activation functions and its derivative"
   ]
  },
  {
   "cell_type": "code",
   "execution_count": 8,
   "id": "f6083c5d",
   "metadata": {},
   "outputs": [],
   "source": [
    "# Defining Activation function for neural network\n",
    "\n",
    "def sigmoid_function(x):\n",
    "    exp = np.exp(-x)\n",
    "    return 1/(1+exp)\n",
    "\n",
    "def sigmoid_derivative(x):\n",
    "    return sigmoid_function(x) * (1-sigmoid_function(x))\n",
    "\n",
    "def tanh_function(x):\n",
    "    return np.tanh(x)\n",
    "\n",
    "def tanh_derivative(x):\n",
    "    return (1 - (np.tanh(x)**2))\n",
    "\n",
    "def ReLu(x):\n",
    "    return np.maximum(0,x)\n",
    "\n",
    "def ReLu_derivative(x):\n",
    "    return 1*(x>0) \n",
    "\n",
    "def softmax_function(x):\n",
    "    \n",
    "    exps = np.exp(x - np.max(x , axis=0, keepdims = True))\n",
    "    return exps / np.sum(exps, axis=0 , keepdims = True)\n",
    "\n",
    "def softmax_derivative(x):\n",
    "    return softmax_function(x) * (1-(softmax_function(x)))\n",
    "\n",
    "def cost_function(al,y,Batch_size,loss,lamb,parameters):\n",
    "    al = np.clip(al, 1e-9, 1 - 1e-9)                                                    # Clip to avoid taking the log of 0 or 1\n",
    "    if loss == 'cross_entropy':\n",
    "        if y.shape[0] == 1:                                                             # binary classification \n",
    "            cost = (1/Batch_size) * (-np.dot(y,np.log(al).T) - np.dot(1-y, np.log(1-al).T))\n",
    "        else:                                                                           # multiclass-classification\n",
    "            cost = -(1/Batch_size) * np.sum(y * np.log(al))\n",
    "    elif loss == 'mse':\n",
    "         cost = (1/2) * np.sum((y-al)**2)/Batch_size\n",
    "    acc = 0\n",
    "    for i in range(1, len(parameters)//2 + 1):\n",
    "        acc += np.sum(parameters[\"W\"+str(i)]**2)\n",
    "    cost = cost + (lamb/(2*Batch_size))*acc\n",
    "    cost = np.squeeze(cost)      \n",
    "    return cost\n",
    "\n",
    "def accuracy(inp, labels, parameters):\n",
    "    forward_prop = Forward_Propagation(inp, parameters , activation_function)\n",
    "    a_out = forward_prop['a2']   # containes propabilities with shape(10, 1)\n",
    "    a_out = np.argmax(a_out, 0)  # 0 represents row wise \n",
    "    labels = np.argmax(labels, 0)\n",
    "    acc = np.mean(a_out == labels)*100\n",
    "    \n",
    "    return acc"
   ]
  },
  {
   "cell_type": "markdown",
   "id": "9be63e8d",
   "metadata": {},
   "source": [
    "#### Intializing parameters"
   ]
  },
  {
   "cell_type": "code",
   "execution_count": 9,
   "id": "74640f36",
   "metadata": {},
   "outputs": [],
   "source": [
    "def init_parameters(layers , init_mode):  #initializing parameters\n",
    "    \n",
    "    np.random.seed(42)\n",
    "    Parameters = {}\n",
    "    Previous_Updates = {}\n",
    "    L = len(layers)           #no.of layers\n",
    "    \n",
    "    for l in range(1, L):     #except the last activation layer\n",
    "        if init_mode == 'Random_normal':\n",
    "            Parameters['W'+str(l)] = np.random.randn(layers[l],layers[l-1])\n",
    "            \n",
    "        elif init_mode == 'Random_uniform':\n",
    "            Parameters['W'+str(l)] = np.random.rand(layers[l],layers[l-1])  \n",
    "            \n",
    "        elif init_mode == 'Xavier':\n",
    "            Parameters['W'+str(l)] = np.random.randn(layers[l],layers[l-1])*np.sqrt(2/(layers[l]+layers[l-1]))\n",
    "            \n",
    "            \n",
    "        Parameters['b'+str(l)] = np.zeros((layers[l],1))\n",
    "        \n",
    "        Previous_Updates['W'+str(l)] = np.zeros((layers[l],layers[l-1]))\n",
    "        Previous_Updates['b'+str(l)] = np.zeros((layers[l], 1))\n",
    "        \n",
    "    return Parameters,Previous_Updates\n"
   ]
  },
  {
   "cell_type": "markdown",
   "id": "62722886",
   "metadata": {},
   "source": [
    "#### Forward propagation"
   ]
  },
  {
   "cell_type": "code",
   "execution_count": 10,
   "id": "cb0036b6",
   "metadata": {},
   "outputs": [],
   "source": [
    "def Forward_Propagation(x, Parameters, activation_function):\n",
    "   \n",
    "    forward_prop = {}\n",
    "    L = math.floor(len(Parameters)/2)                  \n",
    "    \n",
    "    #first activation layer will be input layer itself\n",
    "    \n",
    "    forward_prop['h0'] = x \n",
    "    \n",
    "    # tanh or ReLu activation functions are used for l-1 layers\n",
    "    for l in range(1, L):\n",
    "        \n",
    "    # ai+1 = Wi+1 * hij + bi+1   \n",
    "        forward_prop['a' + str(l)] = np.dot(Parameters['W' + str(l)],forward_prop['h' + str(l-1)]) + Parameters['b' + str(l)]\n",
    "        \n",
    "        if activation_function == 'tanh':\n",
    "            forward_prop['h' + str(l)] = tanh_function(forward_prop['a' + str(l)])\n",
    "        elif activation_function == 'ReLu':\n",
    "            forward_prop['h' + str(l)] = ReLu(forward_prop['a' + str(l)])\n",
    "        elif activation_function == 'sigmoid':\n",
    "            forward_prop['h' + str(l)] = sigmoid_function(forward_prop['a' + str(l)])\n",
    "\n",
    "    forward_prop['a' + str(L)] = np.matmul(Parameters['W' + str(L)],forward_prop['h' + str(L-1)]) + Parameters['b' + str(L)]\n",
    "    \n",
    "    # sigmoid or softmax functions are used for output layer\n",
    "    if forward_prop['a' + str(L)].shape[0] == 1:  #if it is a binary output then sigmoid function\n",
    "        forward_prop['h' + str(L)] = sigmoid_function(forward_prop['a' + str(L)])\n",
    "    else :\n",
    "        forward_prop['h' + str(L)] = softmax_function(forward_prop['a' + str(L)]) #if it is multiclass classification then it is softmax function\n",
    "    \n",
    "    return forward_prop['h' + str(L)], forward_prop\n"
   ]
  },
  {
   "cell_type": "markdown",
   "id": "1dac3a19",
   "metadata": {},
   "source": [
    "#### Backward propagation"
   ]
  },
  {
   "cell_type": "code",
   "execution_count": 11,
   "id": "e49a728a",
   "metadata": {},
   "outputs": [],
   "source": [
    "def back_prop(al,y,Batch_size,loss,Parameters,forward_prop,activation_function,lamb):\n",
    "    \n",
    "    gradients = {}\n",
    "    L = math.floor(len(Parameters)/2)\n",
    "\n",
    "    if loss == 'cross_entropy':\n",
    "        gradients[\"da\" + str(L)] = al - y\n",
    "    elif loss == 'mse':\n",
    "        gradients[\"da\" + str(L)] = (al - y) * softmax_derivative(forward_prop['a' + str(L)])    \n",
    "    gradients[\"dW\" + str(L)] = (1/Batch_size) * (np.dot(gradients[\"da\" + str(L)],forward_prop['h' + str(L-1)].T) + lamb*Parameters[\"W\"+str(L)])\n",
    "    gradients[\"db\" + str(L)] = (1/Batch_size) * (np.sum(gradients[\"da\" + str(L)], axis = 1, keepdims = True))\n",
    "    \n",
    "    for l in reversed(range(1, L)):\n",
    "        if activation_function == 'tanh':\n",
    "            gradients[\"da\" + str(l)] = np.dot(Parameters['W' + str(l+1)].T,gradients[\"da\" + str(l+1)])*tanh_derivative(forward_prop['h' + str(l)]) \n",
    "        elif activation_function == 'ReLu':\n",
    "            gradients[\"da\" + str(l)] = np.dot(Parameters['W' + str(l+1)].T,gradients[\"da\" + str(l+1)])*ReLu_derivative(forward_prop['h' + str(l)])\n",
    "        elif activation_function == 'sigmoid':\n",
    "            gradients[\"da\" + str(l)] = np.dot(Parameters['W' + str(l+1)].T,gradients[\"da\" + str(l+1)])*sigmoid_derivative(forward_prop['h' + str(l)])\n",
    "            \n",
    "        gradients[\"dW\" + str(l)] = 1/(Batch_size) *(np.dot(gradients[\"da\" + str(l)],forward_prop['h' + str(l-1)].T) + lamb*Parameters[\"W\"+str(l)])\n",
    "        gradients[\"db\" + str(l)] = 1/(Batch_size) *(np.sum(gradients[\"da\" + str(l)], axis = 1, keepdims = True)) \n",
    "\n",
    "    return gradients"
   ]
  },
  {
   "cell_type": "markdown",
   "id": "af036211",
   "metadata": {},
   "source": [
    "#### Updating parameters for different training algorithms"
   ]
  },
  {
   "cell_type": "code",
   "execution_count": 12,
   "id": "cb350315",
   "metadata": {},
   "outputs": [],
   "source": [
    "def Update_Parameters_sgd(Parameters, gradients, learning_rate):\n",
    "\n",
    "    L = math.floor(len(Parameters)/2) \n",
    "    \n",
    "    for l in range(L):\n",
    "        Parameters[\"W\" + str(l+1)] = Parameters[\"W\" + str(l+1)] - learning_rate * gradients[\"dW\" + str(l+1)]\n",
    "        Parameters[\"b\" + str(l+1)] = Parameters[\"b\" + str(l+1)] - learning_rate * gradients[\"db\" + str(l+1)]\n",
    "        \n",
    "    return Parameters"
   ]
  },
  {
   "cell_type": "code",
   "execution_count": 13,
   "id": "d93393ef",
   "metadata": {},
   "outputs": [],
   "source": [
    "def Update_Parameters_mgd(Parameters,gradients,learning_rate,Previous_Updates,beta):\n",
    "    \n",
    "    L = math.floor(len(Parameters)/2)\n",
    "    \n",
    "    for l in range(L):\n",
    "        Previous_Updates[\"W\"+str(l+1)] = beta*Previous_Updates[\"W\"+str(l+1)] + learning_rate*gradients[\"dW\" + str(l+1)]\n",
    "        Previous_Updates[\"b\"+str(l+1)] = beta*Previous_Updates[\"b\"+str(l+1)] + learning_rate*gradients[\"db\" + str(l+1)]\n",
    "        Parameters[\"W\"+str(l+1)] = Parameters[\"W\"+str(l+1)] - Previous_Updates[\"W\"+str(l+1)]\n",
    "        Parameters[\"b\"+str(l+1)] = Parameters[\"b\"+str(l+1)] - Previous_Updates[\"b\"+str(l+1)]\n",
    "        \n",
    "    return Parameters , Previous_Updates    \n",
    "    "
   ]
  },
  {
   "cell_type": "code",
   "execution_count": 14,
   "id": "d966b3bc",
   "metadata": {},
   "outputs": [],
   "source": [
    "def Update_Parameters_nagd(Parameters,gradients,learning_rate,Previous_Updates,beta):\n",
    "    \n",
    "    L = math.floor(len(Parameters)/2)\n",
    "    \n",
    "    for l in range(L):\n",
    "        Previous_Updates[\"W\"+str(l+1)] = beta*Previous_Updates[\"W\"+str(l+1)] + learning_rate*gradients[\"dW\" + str(l+1)]\n",
    "        Previous_Updates[\"b\"+str(l+1)] = beta*Previous_Updates[\"b\"+str(l+1)] + learning_rate*gradients[\"db\" + str(l+1)]\n",
    "        Parameters[\"W\"+str(l+1)] = Parameters[\"W\"+str(l+1)] - Previous_Updates[\"W\"+str(l+1)]\n",
    "        Parameters[\"b\"+str(l+1)] = Parameters[\"b\"+str(l+1)] - Previous_Updates[\"b\"+str(l+1)]\n",
    "        \n",
    "        \n",
    "    return Parameters , Previous_Updates  \n",
    "    "
   ]
  },
  {
   "cell_type": "code",
   "execution_count": 15,
   "id": "023fc877",
   "metadata": {},
   "outputs": [],
   "source": [
    "def Update_Parameters_RMSprop(Parameters,gradients,learning_rate,Previous_Updates,beta,v):\n",
    "    L = math.floor(len(Parameters)/2)\n",
    "    delta = 0.000001\n",
    "    for l in range(L):\n",
    "        vdw = beta*v[\"W\" + str(l+1)] + (1-beta)*np.multiply(gradients[\"dW\" + str(l+1)],gradients[\"dW\" + str(l+1)])\n",
    "        vdb = beta*v[\"b\" + str(l+1)] + (1-beta)*np.multiply(gradients[\"db\" + str(l+1)],gradients[\"db\" + str(l+1)])\n",
    "\n",
    "        Parameters[\"W\" + str(l+1)] = Parameters[\"W\" + str(l+1)] - learning_rate * gradients[\"dW\" + str(l+1)] / (np.sqrt(vdw)+delta)\n",
    "        Parameters[\"b\" + str(l+1)] = Parameters[\"b\" + str(l+1)] - learning_rate * gradients[\"db\" + str(l+1)] / (np.sqrt(vdb)+delta)\n",
    "\n",
    "        v[\"W\" + str(l+1)] = vdw\n",
    "        v[\"b\" + str(l+1)] = vdb\n",
    "\n",
    "    return Parameters,v\n",
    "        "
   ]
  },
  {
   "cell_type": "code",
   "execution_count": 16,
   "id": "77a7884d",
   "metadata": {},
   "outputs": [],
   "source": [
    "def Update_Parameters_adam(Parameters,gradients,learning_rate,v,m,t):\n",
    "    L = math.floor(len(Parameters)/2)\n",
    "    epsilon = 0.00000001\n",
    "    beta1 = 0.9\n",
    "    beta2 = 0.999\n",
    "    for l in range(L):\n",
    "        mdw = beta1*m[\"W\" + str(l+1)] + (1-beta1)*gradients[\"dW\" + str(l+1)]\n",
    "        vdw = beta2*v[\"W\" + str(l+1)] + (1-beta2)*np.square(gradients[\"dW\" + str(l+1)])\n",
    "        \n",
    "        vw_hat = vdw/(1-beta2**t)\n",
    "        mw_hat = mdw/(1-beta1**t)\n",
    "        \n",
    "\n",
    "        Parameters[\"W\" + str(l+1)] = Parameters[\"W\" + str(l+1)] - (learning_rate * mw_hat)/np.sqrt(vw_hat+epsilon)\n",
    "        \n",
    "        mdb = beta1*m[\"b\"+str(l+1)] + (1-beta1)*gradients[\"db\"+str(l+1)]\n",
    "        vdb = beta2*v[\"b\"+str(l+1)] + (1-beta2)*np.square(gradients[\"db\"+str(l+1)])\n",
    "        mb_hat = mdb/(1-beta1**t)\n",
    "        vb_hat = vdb/(1-beta2**t)\n",
    "        \n",
    "        Parameters[\"b\" + str(l+1)] = Parameters[\"b\" + str(l+1)] - (learning_rate * mb_hat)/np.sqrt(vb_hat+epsilon)\n",
    "        \n",
    "        v[\"dW\" + str(l+1)] = vdw\n",
    "        m[\"dW\" + str(l+1)] = mdw\n",
    "        v[\"db\" + str(l+1)] = vdb\n",
    "        m[\"db\" + str(l+1)] = mdb\n",
    "\n",
    "    return Parameters,v,m,t\n",
    "        \n",
    "    \n",
    "    "
   ]
  },
  {
   "cell_type": "code",
   "execution_count": 17,
   "id": "dc8723a7",
   "metadata": {},
   "outputs": [],
   "source": [
    "def Update_Parameters_nadam(Parameters,gradients,learning_rate,v,m,t):\n",
    "    L = math.floor(len(Parameters)/2)\n",
    "    epsilon = 0.00000001\n",
    "    beta1 = 0.9\n",
    "    beta2 = 0.999\n",
    "    for l in range(L):\n",
    "        mdw = beta1*m[\"W\" + str(l+1)] + (1-beta1)*gradients[\"dW\" + str(l+1)]\n",
    "        vdw = beta2*v[\"W\" + str(l+1)] + (1-beta2)*np.square(gradients[\"dW\" + str(l+1)])\n",
    "        \n",
    "        vw_hat = vdw/(1-beta2**t)\n",
    "        mw_hat = mdw/(1-beta1**t)\n",
    "        \n",
    "\n",
    "        Parameters[\"W\" + str(l+1)] = Parameters[\"W\" + str(l+1)] - (learning_rate * mw_hat)/np.sqrt(vw_hat+epsilon)\n",
    "        \n",
    "        mdb = beta1*m[\"b\"+str(l+1)] + (1-beta1)*gradients[\"db\"+str(l+1)]\n",
    "        vdb = beta2*v[\"b\"+str(l+1)] + (1-beta2)*np.square(gradients[\"db\"+str(l+1)])\n",
    "        mb_hat = mdb/(1-beta1**t)\n",
    "        vb_hat = vdb/(1-beta2**t)\n",
    "        \n",
    "        Parameters[\"b\" + str(l+1)] = Parameters[\"b\" + str(l+1)] - (learning_rate * mb_hat)/np.sqrt(vb_hat+epsilon)\n",
    "        \n",
    "        v[\"dW\" + str(l+1)] = vdw\n",
    "        m[\"dW\" + str(l+1)] = mdw\n",
    "        v[\"db\" + str(l+1)] = vdb\n",
    "        m[\"db\" + str(l+1)] = mdb\n",
    "\n",
    "    return Parameters,v,m,t\n",
    "        \n",
    "    \n",
    "    "
   ]
  },
  {
   "cell_type": "code",
   "execution_count": 18,
   "id": "a412687c",
   "metadata": {},
   "outputs": [],
   "source": [
    "def predict(x, y, Parameters, activation_function):\n",
    "\n",
    "    m = x.shape[1]\n",
    "    y_pred, caches = Forward_Propagation(x, Parameters, activation_function)\n",
    "    \n",
    "    if y.shape[0] == 1:\n",
    "        y_pred = np.array(y_pred > 0.5, dtype = 'float')\n",
    "    else:\n",
    "        y = np.argmax(y, 0)\n",
    "        y_pred = np.argmax(y_pred, 0)\n",
    "        accuracy = np.round(np.sum(y == y_pred)/m, 2)\n",
    "        \n",
    "       \n",
    "    return accuracy \n"
   ]
  },
  {
   "cell_type": "code",
   "execution_count": 19,
   "id": "f4a85323",
   "metadata": {},
   "outputs": [],
   "source": [
    "def plot_graph_acc(train,validation,iterations):\n",
    "\n",
    "    plt.plot(iterations,train,c='red',label='Training Accuracy')\n",
    "    plt.plot(iterations,validation,c='lime',label='Validation Accuracy')\n",
    "    plt.title(\"Training and validation Accuracy vs number of epochs\",size=14)\n",
    "    plt.xlabel(\"Number of epochs\",size =14)\n",
    "    plt.ylabel(\"Accuracy\",size=14)\n",
    "    plt.grid()\n",
    "    plt.legend()\n",
    "    plt.show()"
   ]
  },
  {
   "cell_type": "code",
   "execution_count": 20,
   "id": "30494ed2",
   "metadata": {},
   "outputs": [],
   "source": [
    "def plot_graph_loss(train,validation,iterations):\n",
    "\n",
    "    plt.plot(iterations,train,c='red',label='Training Loss')\n",
    "    plt.plot(iterations,validation,c='lime',label='Validation Loss')\n",
    "    plt.title(\"Training and validation Loss vs number of epochs\",size=14)\n",
    "    plt.xlabel(\"Number of epochs\",size =14)\n",
    "    plt.ylabel(\"Loss\",size=14)\n",
    "    plt.grid()\n",
    "    plt.legend()\n",
    "    plt.show()"
   ]
  },
  {
   "cell_type": "markdown",
   "id": "78be5ea0",
   "metadata": {},
   "source": [
    "#### Stochastic gradient descent"
   ]
  },
  {
   "cell_type": "code",
   "execution_count": 21,
   "id": "8de1e8d8",
   "metadata": {},
   "outputs": [],
   "source": [
    "def stochastic_gradient_descent(x_train,y_train,x_val,y_val,Batch_size,layers,learning_rate,lamb,loss,activation_function,iterations):\n",
    "    np.random.seed(1)\n",
    "    cost_train_sgd = []\n",
    "    cost_val_sgd = []\n",
    "    iteration_sgd = []\n",
    "    train_sgd = []\n",
    "    validation_sgd = []\n",
    "    \n",
    "    Parameters, Previous_Updates = init_parameters(layers, init_mode='Random_normal')\n",
    "\n",
    "    for i in range(iterations):\n",
    "        iteration_sgd.append(i)\n",
    "         \n",
    "        for j in range(0, x_train.shape[1], Batch_size):\n",
    "            Batch_count = Batch_size\n",
    "            \n",
    "            if j+Batch_size > x_train.shape[1]:\n",
    "                Batch_count = x_train.shape[1] - j \n",
    "            \n",
    "            al, forward_prop = Forward_Propagation(x_train[:, j:j+Batch_count].reshape(x_train.shape[0], Batch_count), Parameters, activation_function)\n",
    "            gradients = back_prop(al, y_train[:, j:j+Batch_count].reshape(y_train.shape[0], Batch_count), Batch_count,loss,Parameters, forward_prop, activation_function, lamb)\n",
    "            Parameters = Update_Parameters_sgd(Parameters, gradients, learning_rate)\n",
    "        \n",
    "        al_train, forward_prop_train = Forward_Propagation(x_train, Parameters, activation_function)\n",
    "        cost_train = cost_function(al_train, y_train, y_train.shape[1], loss, lamb, Parameters)\n",
    "        cost_train_sgd.append(cost_train)\n",
    "        accuracy_train_sgd = predict(x_train, y_train, Parameters, activation_function)\n",
    "        train_sgd.append(accuracy_train_sgd)\n",
    "        \n",
    "        al_val, forward_prop_val = Forward_Propagation(x_val, Parameters, activation_function)\n",
    "        cost_val = cost_function(al_val, y_val, y_val.shape[1], loss, lamb, Parameters)\n",
    "        cost_val_sgd.append(cost_val)\n",
    "        accuracy_val_sgd = predict(x_val, y_val, Parameters, activation_function)\n",
    "        validation_sgd.append(accuracy_val_sgd)\n",
    "        \n",
    "        wandb.log({\"training_accuracy\":accuracy_train_sgd,\"Validation_accuracy\":accuracy_val_sgd,\"training_loss\":cost_train,\"Validation_loss\":cost_val})\n",
    "        \n",
    "        if i % (iterations/10) == 0:\n",
    "            \n",
    "            print(\"\\niter:{} \\t cost_train: {:.2f} \\t cost_val: {:.2f} \\t train_acc: {:.2f} \\t val_acc: {:.2f}\".format(i, cost_train,cost_val,accuracy_train_sgd,accuracy_val_sgd))\n",
    "\n",
    "        \n",
    "    plot_graph_acc(train_sgd, validation_sgd, iteration_sgd)\n",
    "    plot_graph_loss(cost_train_sgd, cost_val_sgd, iteration_sgd)\n",
    "            \n",
    "    return Parameters\n"
   ]
  },
  {
   "cell_type": "code",
   "execution_count": 24,
   "id": "53e3a18a",
   "metadata": {
    "scrolled": true
   },
   "outputs": [
    {
     "name": "stdout",
     "output_type": "stream",
     "text": [
      "\n",
      "iter:0 \t cost_train: 10.78 \t cost_val: 10.72 \t train_acc: 0.29 \t val_acc: 0.30\n"
     ]
    },
    {
     "ename": "KeyboardInterrupt",
     "evalue": "",
     "output_type": "error",
     "traceback": [
      "\u001b[1;31m---------------------------------------------------------------------------\u001b[0m",
      "\u001b[1;31mKeyboardInterrupt\u001b[0m                         Traceback (most recent call last)",
      "Input \u001b[1;32mIn [24]\u001b[0m, in \u001b[0;36m<cell line: 8>\u001b[1;34m()\u001b[0m\n\u001b[0;32m      4\u001b[0m alpha   \u001b[38;5;241m=\u001b[39m \u001b[38;5;241m0.001\u001b[39m\n\u001b[0;32m      5\u001b[0m lamda   \u001b[38;5;241m=\u001b[39m \u001b[38;5;241m0\u001b[39m\n\u001b[1;32m----> 8\u001b[0m Parameters \u001b[38;5;241m=\u001b[39m \u001b[43mstochastic_gradient_descent\u001b[49m\u001b[43m(\u001b[49m\u001b[43mx_train\u001b[49m\u001b[43m,\u001b[49m\u001b[43m \u001b[49m\u001b[43my_train\u001b[49m\u001b[43m,\u001b[49m\u001b[43mx_test\u001b[49m\u001b[43m,\u001b[49m\u001b[43my_test\u001b[49m\u001b[43m,\u001b[49m\u001b[43mBatch_size\u001b[49m\u001b[38;5;241;43m=\u001b[39;49m\u001b[43m_Batch_\u001b[49m\u001b[43m,\u001b[49m\u001b[43mlayers\u001b[49m\u001b[38;5;241;43m=\u001b[39;49m\u001b[43mlayer\u001b[49m\u001b[43m,\u001b[49m\u001b[43mlearning_rate\u001b[49m\u001b[38;5;241;43m=\u001b[39;49m\u001b[43malpha\u001b[49m\u001b[43m,\u001b[49m\u001b[43mlamb\u001b[49m\u001b[38;5;241;43m=\u001b[39;49m\u001b[43mlamda\u001b[49m\u001b[43m,\u001b[49m\u001b[43mloss\u001b[49m\u001b[38;5;241;43m=\u001b[39;49m\u001b[38;5;124;43m'\u001b[39;49m\u001b[38;5;124;43mcross_entropy\u001b[39;49m\u001b[38;5;124;43m'\u001b[39;49m\u001b[43m,\u001b[49m\u001b[43mactivation_function\u001b[49m\u001b[38;5;241;43m=\u001b[39;49m\u001b[38;5;124;43m'\u001b[39;49m\u001b[38;5;124;43mtanh\u001b[39;49m\u001b[38;5;124;43m'\u001b[39;49m\u001b[43m,\u001b[49m\u001b[43miterations\u001b[49m\u001b[38;5;241;43m=\u001b[39;49m\u001b[43miters\u001b[49m\u001b[43m)\u001b[49m\n",
      "Input \u001b[1;32mIn [22]\u001b[0m, in \u001b[0;36mstochastic_gradient_descent\u001b[1;34m(x_train, y_train, x_val, y_val, Batch_size, layers, learning_rate, lamb, loss, activation_function, iterations)\u001b[0m\n\u001b[0;32m     25\u001b[0m cost_train \u001b[38;5;241m=\u001b[39m cost_function(al_train, y_train, y_train\u001b[38;5;241m.\u001b[39mshape[\u001b[38;5;241m1\u001b[39m], loss, lamb, Parameters)\n\u001b[0;32m     26\u001b[0m cost_train_sgd\u001b[38;5;241m.\u001b[39mappend(cost_train)\n\u001b[1;32m---> 27\u001b[0m accuracy_train_sgd \u001b[38;5;241m=\u001b[39m \u001b[43mpredict\u001b[49m\u001b[43m(\u001b[49m\u001b[43mx_train\u001b[49m\u001b[43m,\u001b[49m\u001b[43m \u001b[49m\u001b[43my_train\u001b[49m\u001b[43m,\u001b[49m\u001b[43m \u001b[49m\u001b[43mParameters\u001b[49m\u001b[43m,\u001b[49m\u001b[43m \u001b[49m\u001b[43mactivation_function\u001b[49m\u001b[43m)\u001b[49m\n\u001b[0;32m     28\u001b[0m train_sgd\u001b[38;5;241m.\u001b[39mappend(accuracy_train_sgd)\n\u001b[0;32m     30\u001b[0m al_val, forward_prop_val \u001b[38;5;241m=\u001b[39m Forward_Propagation(x_val, Parameters, activation_function)\n",
      "Input \u001b[1;32mIn [19]\u001b[0m, in \u001b[0;36mpredict\u001b[1;34m(x, y, Parameters, activation_function)\u001b[0m\n\u001b[0;32m      1\u001b[0m \u001b[38;5;28;01mdef\u001b[39;00m \u001b[38;5;21mpredict\u001b[39m(x, y, Parameters, activation_function):\n\u001b[0;32m      3\u001b[0m     m \u001b[38;5;241m=\u001b[39m x\u001b[38;5;241m.\u001b[39mshape[\u001b[38;5;241m1\u001b[39m]\n\u001b[1;32m----> 4\u001b[0m     y_pred, caches \u001b[38;5;241m=\u001b[39m \u001b[43mForward_Propagation\u001b[49m\u001b[43m(\u001b[49m\u001b[43mx\u001b[49m\u001b[43m,\u001b[49m\u001b[43m \u001b[49m\u001b[43mParameters\u001b[49m\u001b[43m,\u001b[49m\u001b[43m \u001b[49m\u001b[43mactivation_function\u001b[49m\u001b[43m)\u001b[49m\n\u001b[0;32m      6\u001b[0m     \u001b[38;5;28;01mif\u001b[39;00m y\u001b[38;5;241m.\u001b[39mshape[\u001b[38;5;241m0\u001b[39m] \u001b[38;5;241m==\u001b[39m \u001b[38;5;241m1\u001b[39m:\n\u001b[0;32m      7\u001b[0m         y_pred \u001b[38;5;241m=\u001b[39m np\u001b[38;5;241m.\u001b[39marray(y_pred \u001b[38;5;241m>\u001b[39m \u001b[38;5;241m0.5\u001b[39m, dtype \u001b[38;5;241m=\u001b[39m \u001b[38;5;124m'\u001b[39m\u001b[38;5;124mfloat\u001b[39m\u001b[38;5;124m'\u001b[39m)\n",
      "Input \u001b[1;32mIn [11]\u001b[0m, in \u001b[0;36mForward_Propagation\u001b[1;34m(x, Parameters, activation_function)\u001b[0m\n\u001b[0;32m     10\u001b[0m \u001b[38;5;66;03m# tanh or ReLu activation functions are used for l-1 layers\u001b[39;00m\n\u001b[0;32m     11\u001b[0m \u001b[38;5;28;01mfor\u001b[39;00m l \u001b[38;5;129;01min\u001b[39;00m \u001b[38;5;28mrange\u001b[39m(\u001b[38;5;241m1\u001b[39m, L):\n\u001b[0;32m     12\u001b[0m     \n\u001b[0;32m     13\u001b[0m \u001b[38;5;66;03m# ai+1 = Wi+1 * hij + bi+1   \u001b[39;00m\n\u001b[1;32m---> 14\u001b[0m     forward_prop[\u001b[38;5;124m'\u001b[39m\u001b[38;5;124ma\u001b[39m\u001b[38;5;124m'\u001b[39m \u001b[38;5;241m+\u001b[39m \u001b[38;5;28mstr\u001b[39m(l)] \u001b[38;5;241m=\u001b[39m \u001b[43mnp\u001b[49m\u001b[38;5;241;43m.\u001b[39;49m\u001b[43mdot\u001b[49m\u001b[43m(\u001b[49m\u001b[43mParameters\u001b[49m\u001b[43m[\u001b[49m\u001b[38;5;124;43m'\u001b[39;49m\u001b[38;5;124;43mW\u001b[39;49m\u001b[38;5;124;43m'\u001b[39;49m\u001b[43m \u001b[49m\u001b[38;5;241;43m+\u001b[39;49m\u001b[43m \u001b[49m\u001b[38;5;28;43mstr\u001b[39;49m\u001b[43m(\u001b[49m\u001b[43ml\u001b[49m\u001b[43m)\u001b[49m\u001b[43m]\u001b[49m\u001b[43m,\u001b[49m\u001b[43mforward_prop\u001b[49m\u001b[43m[\u001b[49m\u001b[38;5;124;43m'\u001b[39;49m\u001b[38;5;124;43mh\u001b[39;49m\u001b[38;5;124;43m'\u001b[39;49m\u001b[43m \u001b[49m\u001b[38;5;241;43m+\u001b[39;49m\u001b[43m \u001b[49m\u001b[38;5;28;43mstr\u001b[39;49m\u001b[43m(\u001b[49m\u001b[43ml\u001b[49m\u001b[38;5;241;43m-\u001b[39;49m\u001b[38;5;241;43m1\u001b[39;49m\u001b[43m)\u001b[49m\u001b[43m]\u001b[49m\u001b[43m)\u001b[49m \u001b[38;5;241m+\u001b[39m Parameters[\u001b[38;5;124m'\u001b[39m\u001b[38;5;124mb\u001b[39m\u001b[38;5;124m'\u001b[39m \u001b[38;5;241m+\u001b[39m \u001b[38;5;28mstr\u001b[39m(l)]\n\u001b[0;32m     16\u001b[0m     \u001b[38;5;28;01mif\u001b[39;00m activation_function \u001b[38;5;241m==\u001b[39m \u001b[38;5;124m'\u001b[39m\u001b[38;5;124mtanh\u001b[39m\u001b[38;5;124m'\u001b[39m:\n\u001b[0;32m     17\u001b[0m         forward_prop[\u001b[38;5;124m'\u001b[39m\u001b[38;5;124mh\u001b[39m\u001b[38;5;124m'\u001b[39m \u001b[38;5;241m+\u001b[39m \u001b[38;5;28mstr\u001b[39m(l)] \u001b[38;5;241m=\u001b[39m tanh_function(forward_prop[\u001b[38;5;124m'\u001b[39m\u001b[38;5;124ma\u001b[39m\u001b[38;5;124m'\u001b[39m \u001b[38;5;241m+\u001b[39m \u001b[38;5;28mstr\u001b[39m(l)])\n",
      "File \u001b[1;32m<__array_function__ internals>:5\u001b[0m, in \u001b[0;36mdot\u001b[1;34m(*args, **kwargs)\u001b[0m\n",
      "\u001b[1;31mKeyboardInterrupt\u001b[0m: "
     ]
    }
   ],
   "source": [
    "layer  = [x_train.shape[0],784,y_train.shape[0]]\n",
    "iters   = 5\n",
    "_Batch_ = 256\n",
    "alpha   = 0.001\n",
    "lamda   = 0\n",
    "\n",
    "\n",
    "Parameters = stochastic_gradient_descent(x_train, y_train,x_test,y_test,Batch_size=_Batch_,layers=layer,learning_rate=alpha,lamb=lamda,loss='cross_entropy',activation_function='tanh',iterations=iters)"
   ]
  },
  {
   "cell_type": "markdown",
   "id": "16d9ea0f",
   "metadata": {},
   "source": [
    "#### Momentum gradient descent "
   ]
  },
  {
   "cell_type": "code",
   "execution_count": 22,
   "id": "5fec8428",
   "metadata": {},
   "outputs": [],
   "source": [
    "def momentum_gradient_descent(x_train,y_train,x_val,y_val,Batch_size,layers,learning_rate,beta,lamb,loss,activation_function,iterations):\n",
    "\n",
    "    np.random.seed(1)\n",
    "    cost_train_mgd = []\n",
    "    cost_val_mgd = []\n",
    "    iteration_mgd = []\n",
    "    train_mgd = []\n",
    "    validation_mgd = []\n",
    "    Parameters, Previous_Updates = init_parameters(layers , init_mode = 'Random_normal')\n",
    "    \n",
    "    for i in range(0, iterations):\n",
    "        iteration_mgd.append(i)\n",
    "        \n",
    "        for j in range(0,x_train.shape[1],Batch_size):\n",
    "            \n",
    "            Batch_count = Batch_size\n",
    "                \n",
    "            if j+Batch_size > x_train.shape[1]:\n",
    "                      Batch_count = x_train.shape[1] - j \n",
    "            \n",
    "            al, forward_prop = Forward_Propagation(x_train[:,j:j+Batch_count].reshape(x_train.shape[0],Batch_count), Parameters, activation_function)\n",
    "            gradients = back_prop(al, y_train[:,j:j+Batch_count].reshape(y_train.shape[0],Batch_count),Batch_count,loss,Parameters, forward_prop, activation_function,lamb)\n",
    "            Parameters,Previous_Updates = Update_Parameters_mgd(Parameters, gradients, learning_rate,Previous_Updates,beta)\n",
    "        \n",
    "        al_train, forward_prop_train = Forward_Propagation(x_train, Parameters, activation_function)\n",
    "        cost_train = cost_function(al_train,y_train,y_train.shape[1],loss,lamb,Parameters)\n",
    "        cost_train_mgd.append(cost_train)\n",
    "        \n",
    "        al_val, forward_prop_val = Forward_Propagation(x_val, Parameters, activation_function)\n",
    "        cost_val = cost_function(al_val, y_val, y_val.shape[1], loss, lamb, Parameters)\n",
    "        cost_val_mgd.append(cost_val)\n",
    "        \n",
    "        accuracy_train_mgd = predict(x_train, y_train, Parameters, activation_function)\n",
    "        accuracy_val_mgd = predict(x_test, y_test, Parameters, activation_function)\n",
    "        train_mgd.append(accuracy_train_mgd)\n",
    "        validation_mgd.append(accuracy_val_mgd)\n",
    "        \n",
    "        wandb.log({\"training_accuracy\":accuracy_train_mgd,\"Validation_accuracy\":accuracy_val_mgd,\"training_loss\":cost_train,\"Validation_loss\":cost_val})\n",
    "        \n",
    "        if i % (iterations/10) == 0:\n",
    "            \n",
    "            print(\"\\niter:{} \\t cost_train: {:.2f} \\t cost_val: {:.2f} \\t train_acc: {:.2f} \\t val_acc: {:.2f}\".format(i, cost_train,cost_val,accuracy_train_mgd,accuracy_val_mgd))\n",
    "\n",
    "    plot_graph_acc(train_mgd,validation_mgd,iteration_mgd)\n",
    "    plot_graph_loss(cost_train_mgd,cost_val_mgd,iteration_mgd)\n",
    "        \n",
    "    return Parameters"
   ]
  },
  {
   "cell_type": "markdown",
   "id": "ed5e390d",
   "metadata": {},
   "source": [
    "#### Nesterov gradient descent"
   ]
  },
  {
   "cell_type": "code",
   "execution_count": 23,
   "id": "550a46e4",
   "metadata": {},
   "outputs": [],
   "source": [
    "def nesterov_accelerated_gradient_descent(x_train,y_train,x_val,y_val,Batch_size,layers,learning_rate,beta,lamb,loss,activation_function,iterations):\n",
    "\n",
    "    np.random.seed(1)\n",
    "    cost_train_nagd = []\n",
    "    cost_val_nagd = []\n",
    "    iteration_nagd = []\n",
    "    train_nagd = []\n",
    "    validation_nagd = []\n",
    "    Parameters, Previous_Updates = init_parameters(layers , init_mode = 'Random_normal')\n",
    "    Parameters_look_ahead = Parameters.copy() \n",
    "    L = math.floor(len(Parameters)/2)\n",
    "    \n",
    "    for i in range(0, iterations):\n",
    "        iteration_nagd.append(i)\n",
    "        \n",
    "        for j in range(0,x_train.shape[1],Batch_size):\n",
    "            Batch_count = Batch_size\n",
    "            if j+Batch_size > x_train.shape[1]:\n",
    "                    Batch_count = x_train.shape[1] - j \n",
    "            \n",
    "            for l in range(L):\n",
    "                Parameters_look_ahead[\"W\"+str(l+1)] = Parameters[\"W\"+str(l+1)] - beta*Previous_Updates[\"W\"+str(l+1)]\n",
    "                Parameters_look_ahead[\"b\"+str(l+1)] = Parameters[\"b\"+str(l+1)] - beta*Previous_Updates[\"b\"+str(l+1)]\n",
    "            \n",
    "            al,forward_prop = Forward_Propagation(x_train[:,j:j+Batch_count].reshape(x_train.shape[0],Batch_count), Parameters, activation_function)\n",
    "            gradients = back_prop(al, y_train[:,j:j+Batch_count].reshape(y_train.shape[0],Batch_count),Batch_count,loss,Parameters_look_ahead, forward_prop, activation_function,lamb)\n",
    "            Parameters,Previous_Updates = Update_Parameters_nagd(Parameters_look_ahead, gradients, learning_rate,Previous_Updates,beta)\n",
    "        \n",
    "        al_train, forward_prop_train = Forward_Propagation(x_train, Parameters, activation_function)\n",
    "        cost_train = cost_function(al_train,y_train,y_train.shape[1],loss,lamb,Parameters)\n",
    "        cost_train_nagd.append(cost_train)\n",
    "        al_val, forward_prop_val = Forward_Propagation(x_val, Parameters, activation_function)\n",
    "        cost_val = cost_function(al_val, y_val, y_val.shape[1], loss, lamb, Parameters)\n",
    "        cost_val_nagd.append(cost_val)\n",
    "        \n",
    "        accuracy_train_nagd = predict(x_train, y_train, Parameters, activation_function)\n",
    "        accuracy_val_nagd = predict(x_test, y_test, Parameters, activation_function)\n",
    "        train_nagd.append(accuracy_train_nagd)\n",
    "        validation_nagd.append(accuracy_val_nagd)\n",
    "        \n",
    "        wandb.log({\"training_accuracy\":accuracy_train_nagd,\"Validation_accuracy\":accuracy_val_nagd,\"training_loss\":cost_train,\"Validation_loss\":cost_val})\n",
    "        \n",
    "        if i % (iterations/10) == 0:\n",
    "\n",
    "            print(\"\\niter:{} \\t cost_train: {:.2f} \\t cost_val: {:.2f} \\t train_acc: {:.2f} \\t val_acc: {:.2f}\".format(i, cost_train,cost_val,accuracy_train_nagd,accuracy_val_nagd))\n",
    "\n",
    "        \n",
    "    plot_graph_acc(train_nagd,validation_nagd,iteration_nagd)\n",
    "    plot_graph_loss(cost_train_nagd,cost_val_nagd,iteration_nagd)\n",
    "        \n",
    "    return Parameters"
   ]
  },
  {
   "cell_type": "markdown",
   "id": "03cff5f9",
   "metadata": {},
   "source": [
    "#### RMS propagation"
   ]
  },
  {
   "cell_type": "code",
   "execution_count": 24,
   "id": "a50923b4",
   "metadata": {},
   "outputs": [],
   "source": [
    "def RMS_prop(x_train,y_train,x_val,y_val,Batch_size,layers,learning_rate,beta,lamb,loss,activation_function,iterations):\n",
    "    cost_train_RMS = []\n",
    "    cost_val_RMS = []\n",
    "    iteration_RMS = []\n",
    "    train_RMS = []\n",
    "    validation_RMS = []\n",
    "\n",
    "    \n",
    "    Parameters, Previous_Updates = init_parameters(layers , init_mode = 'Random_normal')\n",
    "    Parameters_look_ahead = Parameters.copy()\n",
    "    v = Previous_Updates.copy()\n",
    "    L = math.floor(len(Parameters)/2)\n",
    "    \n",
    "    for i in range(0, iterations):\n",
    "        iteration_RMS.append(i)\n",
    "        for j in range(0,x_train.shape[1],Batch_size):\n",
    "            Batch_count = Batch_size\n",
    "            if j+Batch_size > x_train.shape[1]:\n",
    "                Batch_count = x_train.shape[1] - j \n",
    "            al, forward_prop = Forward_Propagation(x_train[:,j:j+Batch_count].reshape(x_train.shape[0],Batch_count), Parameters, activation_function)\n",
    "            gradients = back_prop(al, y_train[:,j:j+Batch_count].reshape(y_train.shape[0],Batch_count),Batch_count,loss,Parameters, forward_prop, activation_function,lamb)\n",
    "            Parameters,Previous_Updates = Update_Parameters_RMSprop(Parameters, gradients, learning_rate,Previous_Updates,beta,v)\n",
    "        \n",
    "        al_train, forward_prop_train = Forward_Propagation(x_train, Parameters, activation_function)\n",
    "        cost_train = cost_function(al_train,y_train,y_train.shape[1],loss,lamb,Parameters)\n",
    "        cost_train_RMS.append(cost_train)\n",
    "        al_val, forward_prop_val = Forward_Propagation(x_val, Parameters, activation_function)\n",
    "        cost_val = cost_function(al_val, y_val, y_val.shape[1], loss, lamb, Parameters)\n",
    "        cost_val_RMS.append(cost_val)\n",
    "        \n",
    "        accuracy_train_RMS = predict(x_train, y_train, Parameters, activation_function)\n",
    "        accuracy_val_RMS = predict(x_test, y_test, Parameters, activation_function)\n",
    "        train_RMS.append(accuracy_train_RMS)\n",
    "        validation_RMS.append(accuracy_val_RMS)\n",
    "        \n",
    "        wandb.log({\"training_accuracy\":accuracy_train_RMS,\"Validation_accuracy\":accuracy_val_RMS,\"training_loss\":cost_train,\"Validation_loss\":cost_val})\n",
    "        \n",
    "        if i % (iterations/10) == 0:\n",
    "            \n",
    "            print(\"\\niter:{} \\t cost_train: {:.2f} \\t cost_val: {:.2f} \\t train_acc: {:.2f} \\t val_acc: {:.2f}\".format(i, cost_train,cost_val,accuracy_train_RMS,accuracy_val_RMS))\n",
    "\n",
    "        \n",
    "    plot_graph_acc(train_RMS,validation_RMS,iteration_RMS)\n",
    "    plot_graph_loss(cost_train_RMS,cost_val_RMS,iteration_RMS)\n",
    "        \n",
    "    return Parameters\n",
    "        "
   ]
  },
  {
   "cell_type": "markdown",
   "id": "d8313c6f",
   "metadata": {},
   "source": [
    "#### Adam "
   ]
  },
  {
   "cell_type": "code",
   "execution_count": 25,
   "id": "b48c243c",
   "metadata": {},
   "outputs": [],
   "source": [
    "def adam(x_train,y_train,x_val,y_val,Batch_size,layers,learning_rate,lamb,loss,activation_function,iterations):\n",
    "    cost_train_ad = []\n",
    "    cost_val_ad = []\n",
    "    iteration_ad = []\n",
    "    train_ad = []\n",
    "    validation_ad = []\n",
    "    Parameters, Previous_Updates = init_parameters(layers , init_mode = 'Random_normal')\n",
    "    Parameters_look_ahead = Parameters.copy()\n",
    "    t = 1\n",
    "    v = Previous_Updates.copy()\n",
    "    m = Previous_Updates.copy()\n",
    "    L = math.floor(len(Parameters)/2)\n",
    "    \n",
    "    for i in range(0, iterations):\n",
    "        iteration_ad.append(i)\n",
    "        for j in range(0,x_train.shape[1],Batch_size):\n",
    "            Batch_count = Batch_size\n",
    "            if j+Batch_size > x_train.shape[1]:\n",
    "                Batch_count = x_train.shape[1] - j \n",
    "            al, forward_prop = Forward_Propagation(x_train[:,j:j+Batch_count].reshape(x_train.shape[0],Batch_count),Parameters,activation_function)\n",
    "            gradients = back_prop(al, y_train[:,j:j+Batch_count].reshape(y_train.shape[0],Batch_count),Batch_count,loss,Parameters, forward_prop, activation_function,lamb)\n",
    "            Parameters,v,m,t = Update_Parameters_adam(Parameters,gradients,learning_rate,v,m,t)\n",
    "        \n",
    "        al_train, forward_prop_train = Forward_Propagation(x_train,Parameters,activation_function)\n",
    "        cost_train = cost_function(al_train,y_train,y_train.shape[1],loss,lamb,Parameters)\n",
    "        cost_train_ad.append(cost_train)\n",
    "        al_val, forward_prop_val = Forward_Propagation(x_val, Parameters, activation_function)\n",
    "        cost_val = cost_function(al_val,y_val,y_val.shape[1],loss,lamb,Parameters)\n",
    "        cost_val_ad.append(cost_val)\n",
    "        accuracy_train_ad = predict(x_train, y_train, Parameters, activation_function)\n",
    "        accuracy_val_ad = predict(x_test, y_test, Parameters, activation_function)\n",
    "        train_ad.append(accuracy_train_ad)\n",
    "        validation_ad.append(accuracy_val_ad)\n",
    "        \n",
    "        wandb.log({\"training_accuracy\":accuracy_train_ad,\"Validation_accuracy\":accuracy_val_ad,\"training_loss\":cost_train,\"Validation_loss\":cost_val})\n",
    "        \n",
    "        if i%(iterations/10) == 0:\n",
    "                print(\"\\niter:{} \\t cost_train: {:.2f} \\t cost_val: {:.2f} \\t train_acc: {:.2f} \\t val_acc: {:.2f}\".format(i, cost_train,cost_val,accuracy_train_ad,accuracy_val_ad))\n",
    "\n",
    "    plot_graph_acc(train_ad,validation_ad,iteration_ad)\n",
    "    plot_graph_loss(cost_train_ad,cost_val_ad,iteration_ad)\n",
    "        \n",
    "    return Parameters\n",
    "        "
   ]
  },
  {
   "cell_type": "markdown",
   "id": "24952b21",
   "metadata": {},
   "source": [
    "#### Nadam"
   ]
  },
  {
   "cell_type": "code",
   "execution_count": 26,
   "id": "3ad8d2ea",
   "metadata": {},
   "outputs": [],
   "source": [
    "def nadam(x_train,y_train,x_val,y_val,Batch_size,layers,learning_rate,beta,lamb,loss,activation_function,iterations):\n",
    "\n",
    "    np.random.seed(1)\n",
    "    cost_train_nadam = []\n",
    "    cost_val_nadam = []\n",
    "    iteration_nadam = []\n",
    "    train_nadam = []\n",
    "    validation_nadam = []\n",
    "    Parameters, Previous_Updates = init_parameters(layers , init_mode = 'Random_normal')\n",
    "    Parameters_look_ahead = Parameters.copy()\n",
    "    t = 1\n",
    "    v = Previous_Updates.copy()\n",
    "    m = Previous_Updates.copy()\n",
    "    L = math.floor(len(Parameters)/2)\n",
    "    \n",
    "    for i in range(0, iterations):\n",
    "        iteration_nadam.append(i)\n",
    "        \n",
    "        for l in range(L):\n",
    "                Parameters_look_ahead[\"W\"+str(l+1)] = Parameters[\"W\"+str(l+1)]-beta*Previous_Updates[\"W\"+str(l+1)]\n",
    "                Parameters_look_ahead[\"b\"+str(l+1)] = Parameters[\"b\"+str(l+1)]-beta*Previous_Updates[\"b\"+str(l+1)]\n",
    "        \n",
    "        for j in range(0,x_train.shape[1],Batch_size):\n",
    "            Batch_count = Batch_size\n",
    "            \n",
    "            for l in range(L):\n",
    "                Parameters_look_ahead[\"W\"+str(l+1)] = Parameters[\"W\"+str(l+1)]-beta*Previous_Updates[\"W\"+str(l+1)]\n",
    "                Parameters_look_ahead[\"b\"+str(l+1)] = Parameters[\"b\"+str(l+1)]-beta*Previous_Updates[\"b\"+str(l+1)]\n",
    "            \n",
    "            if j+Batch_size > x_train.shape[1]:\n",
    "                Batch_count = x_train.shape[1] - j \n",
    "            \n",
    "            al, forward_prop = Forward_Propagation(x_train[:,j:j+Batch_count].reshape(x_train.shape[0],Batch_count), Parameters, activation_function)\n",
    "            gradients = back_prop(al, y_train[:,j:j+Batch_count].reshape(y_train.shape[0],Batch_count),Batch_count,loss,Parameters, forward_prop, activation_function,lamb)\n",
    "            Parameters,v,m,t = Update_Parameters_nadam(Parameters,gradients,learning_rate,v,m,t)\n",
    "        \n",
    "        al_train, forward_prop_train = Forward_Propagation(x_train, Parameters, activation_function)\n",
    "        cost_train = cost_function(al_train,y_train,y_train.shape[1],loss,lamb,Parameters)\n",
    "        cost_train_nadam.append(cost_train)\n",
    "        al_val, forward_prop_val = Forward_Propagation(x_val, Parameters, activation_function)\n",
    "        cost_val = cost_function(al_val, y_val, y_val.shape[1], loss, lamb, Parameters)\n",
    "        cost_val_nadam.append(cost_val)\n",
    "        accuracy_train_nadam = predict(x_train, y_train, Parameters, activation_function)\n",
    "        accuracy_val_nadam = predict(x_test, y_test, Parameters, activation_function)\n",
    "        train_nadam.append(accuracy_train_nadam)\n",
    "        validation_nadam.append(accuracy_val_nadam)\n",
    "        \n",
    "        wandb.log({\"training_accuracy\":accuracy_train_nadam,\"Validation_accuracy\":accuracy_val_nadam,\"training_loss\":cost_train,\"Validation_loss\":cost_val})\n",
    "        \n",
    "        \n",
    "        if i%(iterations/10) == 0:\n",
    "            print(\"\\niter:{} \\t cost_train: {:.2f} \\t cost_val: {:.2f} \\t train_acc: {:.2f} \\t val_acc: {:.2f}\".format(i, cost_train,cost_val,accuracy_train_nadam,accuracy_val_nadam))\n",
    "\n",
    "                \n",
    "    plot_graph_acc(train_nadam,validation_nadam,iteration_nadam)\n",
    "    plot_graph_loss(cost_train_nadam,cost_val_nadam,iteration_nadam)\n",
    "        \n",
    "    return Parameters"
   ]
  },
  {
   "cell_type": "markdown",
   "id": "b5c0d190",
   "metadata": {},
   "source": [
    "#### Hyperparameter tuning using sweeps"
   ]
  },
  {
   "cell_type": "code",
   "execution_count": 27,
   "id": "7fa94b2d",
   "metadata": {
    "scrolled": true
   },
   "outputs": [],
   "source": [
    "def Neural_Network():\n",
    "    \n",
    "    config_defaults = {\n",
    "        'iterations':10,\n",
    "        'Batch_size':64,\n",
    "        'learning_rate':0.001,\n",
    "        'activation_function':'ReLu',\n",
    "        'loss':'cross_entropy',\n",
    "        'optimizer':'RMS',\n",
    "        'init_mode':'Xavier',\n",
    "        'lamb': 0,\n",
    "        'num_neurons':64,\n",
    "        'num_hidden': 3 \n",
    "        }\n",
    "    \n",
    "    wandb.init(config=config_defaults)\n",
    "    config = wandb.config\n",
    "    \n",
    "    num_neurons = config.num_neurons\n",
    "    init_mode = config.init_mode\n",
    "    num_hidden = config.num_hidden\n",
    "    iterations = config.iterations\n",
    "    Batch_size = config.Batch_size\n",
    "    learning_rate = config.learning_rate\n",
    "    activation_function = config.activation_function\n",
    "    loss = config.loss\n",
    "    lamb = config.lamb\n",
    "    optimizer = config.optimizer\n",
    "    \n",
    "    run_name = \"learningrate:{} \\t activationfunction:{} \\t init_mode:{} \\t batchsize:{} \\t optimizer:{} \\t L2:{} \\t epochs:{} \\t num_hidden:{} \\t num_neurons:{}\".format(learning_rate,activation_function,init_mode,Batch_size,optimizer,lamb,iterations,num_hidden,num_neurons) \n",
    "    print(run_name)\n",
    "    layers = [x_train.shape[0]] + [num_neurons]*num_hidden + [y_train.shape[0]]\n",
    "    beta =0.9\n",
    "    \n",
    "    \n",
    "    if optimizer == 'stochastic':\n",
    "        Parameters = stochastic_gradient_descent(x_train,y_train,x_test,y_test,Batch_size,layers,learning_rate,lamb,loss,activation_function,iterations)\n",
    "\n",
    "    elif optimizer == 'momentum':\n",
    "        Parameters = momentum_gradient_descent(x_train,y_train,x_test,y_test,Batch_size,layers,learning_rate,beta,lamb,loss,activation_function,iterations)\n",
    "    \n",
    "    elif optimizer == 'nesterov':\n",
    "        Parameters = nesterov_accelerated_gradient_descent(x_train,y_train,x_test,y_test,Batch_size,layers,learning_rate,beta,lamb,loss,activation_function,iterations)\n",
    "\n",
    "    elif optimizer == 'RMS':\n",
    "        Parameters = RMS_prop(x_train,y_train,x_test,y_test,Batch_size,layers,learning_rate,beta,lamb,loss,activation_function,iterations)\n",
    "  \n",
    "    elif optimizer == 'adam':\n",
    "        Parameters = adam(x_train,y_train,x_test,y_test,Batch_size,layers,learning_rate,lamb,loss,activation_function,iterations)\n",
    "\n",
    "    elif optimizer == 'nadam':\n",
    "        Parameters = nadam(x_train,y_train,x_test,y_test,Batch_size,layers,learning_rate,beta,lamb,loss,activation_function,iterations)\n",
    "\n",
    "        \n",
    "        \n",
    "    wandb.run.name =run_name \n",
    "    wandb.run.save()\n",
    "    wandb.run.finish()\n"
   ]
  },
  {
   "cell_type": "code",
   "execution_count": 30,
   "id": "a1c5cfaa",
   "metadata": {
    "scrolled": true
   },
   "outputs": [
    {
     "name": "stdout",
     "output_type": "stream",
     "text": [
      "Create sweep with ID: c6rs0qav\n",
      "Sweep URL: https://wandb.ai/dharanivendhanv01/Question_1/sweeps/c6rs0qav\n"
     ]
    },
    {
     "name": "stderr",
     "output_type": "stream",
     "text": [
      "\u001b[34m\u001b[1mwandb\u001b[0m: Agent Starting Run: aa6ec52g with config:\n",
      "\u001b[34m\u001b[1mwandb\u001b[0m: \tBatch_size: 64\n",
      "\u001b[34m\u001b[1mwandb\u001b[0m: \tactivation_function: ReLu\n",
      "\u001b[34m\u001b[1mwandb\u001b[0m: \tinit_mode: Random_normal\n",
      "\u001b[34m\u001b[1mwandb\u001b[0m: \titerations: 20\n",
      "\u001b[34m\u001b[1mwandb\u001b[0m: \tlamb: 0.05\n",
      "\u001b[34m\u001b[1mwandb\u001b[0m: \tlearning_rate: 0.001\n",
      "\u001b[34m\u001b[1mwandb\u001b[0m: \tloss: cross_entropy\n",
      "\u001b[34m\u001b[1mwandb\u001b[0m: \tnum_hidden: 1\n",
      "\u001b[34m\u001b[1mwandb\u001b[0m: \tnum_neurons: 32\n",
      "\u001b[34m\u001b[1mwandb\u001b[0m: \toptimizer: RMS\n",
      "\u001b[34m\u001b[1mwandb\u001b[0m: wandb version 0.14.0 is available!  To upgrade, please run:\n",
      "\u001b[34m\u001b[1mwandb\u001b[0m:  $ pip install wandb --upgrade\n"
     ]
    },
    {
     "data": {
      "text/html": [
       "\n",
       "                Tracking run with wandb version 0.10.8<br/>\n",
       "                Syncing run <strong style=\"color:#cdcd00\">splendid-sweep-1</strong> to <a href=\"https://wandb.ai\" target=\"_blank\">Weights & Biases</a> <a href=\"https://docs.wandb.com/integrations/jupyter.html\" target=\"_blank\">(Documentation)</a>.<br/>\n",
       "                Project page: <a href=\"https://wandb.ai/dharanivendhanv01/Question_1\" target=\"_blank\">https://wandb.ai/dharanivendhanv01/Question_1</a><br/>\n",
       "                Sweep page: <a href=\"https://wandb.ai/dharanivendhanv01/Question_1/sweeps/c6rs0qav\" target=\"_blank\">https://wandb.ai/dharanivendhanv01/Question_1/sweeps/c6rs0qav</a><br/>\n",
       "Run page: <a href=\"https://wandb.ai/dharanivendhanv01/Question_1/runs/aa6ec52g\" target=\"_blank\">https://wandb.ai/dharanivendhanv01/Question_1/runs/aa6ec52g</a><br/>\n",
       "                Run data is saved locally in <code>C:\\Users\\Dharani\\wandb\\run-20230319_015238-aa6ec52g</code><br/><br/>\n",
       "            "
      ],
      "text/plain": [
       "<IPython.core.display.HTML object>"
      ]
     },
     "metadata": {},
     "output_type": "display_data"
    },
    {
     "name": "stdout",
     "output_type": "stream",
     "text": [
      "learningrate:0.001 \t activationfunction:ReLu \t init_mode:Random_normal \t batchsize:64 \t optimizer:RMS \t L2:0.05 \t epochs:20 \t num_hidden:1 \t num_neurons:32\n",
      "\n",
      "iter:0 \t cost_train: 1.45 \t cost_val: 1.45 \t train_acc: 0.67 \t val_acc: 0.68\n",
      "\n",
      "iter:2 \t cost_train: 0.52 \t cost_val: 0.53 \t train_acc: 0.85 \t val_acc: 0.85\n",
      "\n",
      "iter:4 \t cost_train: 0.31 \t cost_val: 0.31 \t train_acc: 0.91 \t val_acc: 0.91\n",
      "\n",
      "iter:6 \t cost_train: 0.21 \t cost_val: 0.21 \t train_acc: 0.94 \t val_acc: 0.94\n",
      "\n",
      "iter:8 \t cost_train: 0.16 \t cost_val: 0.17 \t train_acc: 0.95 \t val_acc: 0.95\n",
      "\n",
      "iter:10 \t cost_train: 0.14 \t cost_val: 0.15 \t train_acc: 0.96 \t val_acc: 0.96\n",
      "\n",
      "iter:12 \t cost_train: 0.12 \t cost_val: 0.14 \t train_acc: 0.97 \t val_acc: 0.96\n",
      "\n",
      "iter:14 \t cost_train: 0.12 \t cost_val: 0.13 \t train_acc: 0.97 \t val_acc: 0.96\n",
      "\n",
      "iter:16 \t cost_train: 0.11 \t cost_val: 0.12 \t train_acc: 0.97 \t val_acc: 0.97\n",
      "\n",
      "iter:18 \t cost_train: 0.10 \t cost_val: 0.12 \t train_acc: 0.97 \t val_acc: 0.97\n"
     ]
    },
    {
     "data": {
      "image/png": "[encoded data removed]",
      "text/plain": [
       "<Figure size 432x288 with 1 Axes>"
      ]
     },
     "metadata": {
      "needs_background": "light"
     },
     "output_type": "display_data"
    },
    {
     "data": {
      "image/png": "[encoded data removed]",
      "text/plain": [
       "<Figure size 432x288 with 1 Axes>"
      ]
     },
     "metadata": {
      "needs_background": "light"
     },
     "output_type": "display_data"
    },
    {
     "name": "stderr",
     "output_type": "stream",
     "text": [
      "\u001b[34m\u001b[1mwandb\u001b[0m: \u001b[33mWARNING\u001b[0m Calling run.save without any arguments is deprecated.Changes to attributes are automatically persisted.\n"
     ]
    },
    {
     "data": {
      "text/html": [
       "<br/>Waiting for W&B process to finish, PID 8432<br/>Program ended successfully."
      ],
      "text/plain": [
       "<IPython.core.display.HTML object>"
      ]
     },
     "metadata": {},
     "output_type": "display_data"
    },
    {
     "data": {
      "application/vnd.jupyter.widget-view+json": {
       "model_id": "",
       "version_major": 2,
       "version_minor": 0
      },
      "text/plain": [
       "VBox(children=(Label(value=' 0.00MB of 0.00MB uploaded (0.00MB deduped)\\r'), FloatProgress(value=1.0, max=1.0)…"
      ]
     },
     "metadata": {},
     "output_type": "display_data"
    },
    {
     "data": {
      "text/html": [
       "Find user logs for this run at: <code>C:\\Users\\Dharani\\wandb\\run-20230319_015238-aa6ec52g\\logs\\debug.log</code>"
      ],
      "text/plain": [
       "<IPython.core.display.HTML object>"
      ]
     },
     "metadata": {},
     "output_type": "display_data"
    },
    {
     "data": {
      "text/html": [
       "Find internal logs for this run at: <code>C:\\Users\\Dharani\\wandb\\run-20230319_015238-aa6ec52g\\logs\\debug-internal.log</code>"
      ],
      "text/plain": [
       "<IPython.core.display.HTML object>"
      ]
     },
     "metadata": {},
     "output_type": "display_data"
    },
    {
     "data": {
      "text/html": [
       "<h3>Run summary:</h3><br/><style>\n",
       "    table.wandb td:nth-child(1) { padding: 0 10px; text-align: right }\n",
       "    </style><table class=\"wandb\">\n",
       "<tr><td>training_accuracy</td><td>0.97</td></tr><tr><td>Validation_accuracy</td><td>0.97</td></tr><tr><td>training_loss</td><td>0.10118</td></tr><tr><td>Validation_loss</td><td>0.11525</td></tr><tr><td>_step</td><td>19</td></tr><tr><td>_runtime</td><td>22</td></tr><tr><td>_timestamp</td><td>1679170980</td></tr></table>"
      ],
      "text/plain": [
       "<IPython.core.display.HTML object>"
      ]
     },
     "metadata": {},
     "output_type": "display_data"
    },
    {
     "data": {
      "text/html": [
       "<h3>Run history:</h3><br/><style>\n",
       "    table.wandb td:nth-child(1) { padding: 0 10px; text-align: right }\n",
       "    </style><table class=\"wandb\">\n",
       "<tr><td>training_accuracy</td><td>▁▄▅▆▇▇▇█████████████</td></tr><tr><td>Validation_accuracy</td><td>▁▄▅▆▇▇▇▇████████████</td></tr><tr><td>training_loss</td><td>█▄▃▃▂▂▂▁▁▁▁▁▁▁▁▁▁▁▁▁</td></tr><tr><td>Validation_loss</td><td>█▄▃▂▂▂▂▁▁▁▁▁▁▁▁▁▁▁▁▁</td></tr><tr><td>_step</td><td>▁▁▂▂▂▃▃▄▄▄▅▅▅▆▆▇▇▇██</td></tr><tr><td>_runtime</td><td>▁▁▁▂▂▃▃▃▄▄▅▅▅▆▆▆▇▇██</td></tr><tr><td>_timestamp</td><td>▁▁▁▂▂▃▃▃▄▄▅▅▅▆▆▆▇▇██</td></tr></table><br/>"
      ],
      "text/plain": [
       "<IPython.core.display.HTML object>"
      ]
     },
     "metadata": {},
     "output_type": "display_data"
    },
    {
     "data": {
      "text/html": [
       "Synced 5 W&B file(s), 0 media file(s), 0 artifact file(s) and 0 other file(s)"
      ],
      "text/plain": [
       "<IPython.core.display.HTML object>"
      ]
     },
     "metadata": {},
     "output_type": "display_data"
    },
    {
     "data": {
      "text/html": [
       "\n",
       "                    <br/>Synced <strong style=\"color:#cdcd00\">splendid-sweep-1</strong>: <a href=\"https://wandb.ai/dharanivendhanv01/Question_1/runs/aa6ec52g\" target=\"_blank\">https://wandb.ai/dharanivendhanv01/Question_1/runs/aa6ec52g</a><br/>\n",
       "                "
      ],
      "text/plain": [
       "<IPython.core.display.HTML object>"
      ]
     },
     "metadata": {},
     "output_type": "display_data"
    }
   ],
   "source": [
    "sweep_config = {\n",
    "    \"name\":\"CS6910 Assignment 1 - Cross Entropy Loss\",\n",
    "    \"Metric\":{\n",
    "        \"name\":\"Validation_accuracy\",\n",
    "        \"goal\":\"maximize\"\n",
    "    },\n",
    "    \"method\":\"random\",\n",
    "    \"parameters\":{\n",
    "        \"learning_rate\":{\n",
    "            \"values\":[0.001]\n",
    "        },\n",
    "        \"activation_function\":{\n",
    "            \"values\":[\"ReLu\"]\n",
    "        },\n",
    "        \"loss\":{\n",
    "            \"values\":[\"cross_entropy\"]\n",
    "        },\n",
    "        \"init_mode\":{\n",
    "            \"values\":[\"Random_normal\"]\n",
    "        },\n",
    "        \"optimizer\":{\n",
    "            \"values\":[\"RMS\"]\n",
    "        },\n",
    "        \"Batch_size\":{\n",
    "        \"values\":[64]\n",
    "        },\n",
    "        \"iterations\":{\n",
    "            \"values\":[20]\n",
    "        },\n",
    "        \"lamb\":{\n",
    "            \"values\":[0.05]\n",
    "        },\n",
    "        \"num_neurons\":{\n",
    "            \"values\":[32]\n",
    "        },\n",
    "        \"num_hidden\":{\n",
    "            \"values\":[1]\n",
    "        }\n",
    "    }\n",
    "}\n",
    "\n",
    "sweep_id = wandb.sweep(sweep_config,project=\"Question_1\")\n",
    "wandb.agent(sweep_id,Neural_Network,count=1)"
   ]
  },
  {
   "cell_type": "code",
   "execution_count": 31,
   "id": "029b3aa8",
   "metadata": {
    "scrolled": true
   },
   "outputs": [
    {
     "name": "stdout",
     "output_type": "stream",
     "text": [
      "Create sweep with ID: dh5w6oeb\n",
      "Sweep URL: https://wandb.ai/dharanivendhanv01/Question_1/sweeps/dh5w6oeb\n"
     ]
    },
    {
     "name": "stderr",
     "output_type": "stream",
     "text": [
      "\u001b[34m\u001b[1mwandb\u001b[0m: Agent Starting Run: ufc4tu2c with config:\n",
      "\u001b[34m\u001b[1mwandb\u001b[0m: \tBatch_size: 32\n",
      "\u001b[34m\u001b[1mwandb\u001b[0m: \tactivation_function: ReLu\n",
      "\u001b[34m\u001b[1mwandb\u001b[0m: \tinit_mode: Random_normal\n",
      "\u001b[34m\u001b[1mwandb\u001b[0m: \titerations: 40\n",
      "\u001b[34m\u001b[1mwandb\u001b[0m: \tlamb: 0\n",
      "\u001b[34m\u001b[1mwandb\u001b[0m: \tlearning_rate: 0.01\n",
      "\u001b[34m\u001b[1mwandb\u001b[0m: \tloss: cross_entropy\n",
      "\u001b[34m\u001b[1mwandb\u001b[0m: \tnum_hidden: 1\n",
      "\u001b[34m\u001b[1mwandb\u001b[0m: \tnum_neurons: 128\n",
      "\u001b[34m\u001b[1mwandb\u001b[0m: \toptimizer: adam\n",
      "\u001b[34m\u001b[1mwandb\u001b[0m: wandb version 0.14.0 is available!  To upgrade, please run:\n",
      "\u001b[34m\u001b[1mwandb\u001b[0m:  $ pip install wandb --upgrade\n"
     ]
    },
    {
     "data": {
      "text/html": [
       "\n",
       "                Tracking run with wandb version 0.10.8<br/>\n",
       "                Syncing run <strong style=\"color:#cdcd00\">eternal-sweep-1</strong> to <a href=\"https://wandb.ai\" target=\"_blank\">Weights & Biases</a> <a href=\"https://docs.wandb.com/integrations/jupyter.html\" target=\"_blank\">(Documentation)</a>.<br/>\n",
       "                Project page: <a href=\"https://wandb.ai/dharanivendhanv01/Question_1\" target=\"_blank\">https://wandb.ai/dharanivendhanv01/Question_1</a><br/>\n",
       "                Sweep page: <a href=\"https://wandb.ai/dharanivendhanv01/Question_1/sweeps/dh5w6oeb\" target=\"_blank\">https://wandb.ai/dharanivendhanv01/Question_1/sweeps/dh5w6oeb</a><br/>\n",
       "Run page: <a href=\"https://wandb.ai/dharanivendhanv01/Question_1/runs/ufc4tu2c\" target=\"_blank\">https://wandb.ai/dharanivendhanv01/Question_1/runs/ufc4tu2c</a><br/>\n",
       "                Run data is saved locally in <code>C:\\Users\\Dharani\\wandb\\run-20230319_015437-ufc4tu2c</code><br/><br/>\n",
       "            "
      ],
      "text/plain": [
       "<IPython.core.display.HTML object>"
      ]
     },
     "metadata": {},
     "output_type": "display_data"
    },
    {
     "name": "stdout",
     "output_type": "stream",
     "text": [
      "learningrate:0.01 \t activationfunction:ReLu \t init_mode:Random_normal \t batchsize:32 \t optimizer:adam \t L2:0 \t epochs:40 \t num_hidden:1 \t num_neurons:128\n",
      "\n",
      "iter:0 \t cost_train: 1.02 \t cost_val: 1.14 \t train_acc: 0.92 \t val_acc: 0.92\n",
      "\n",
      "iter:4 \t cost_train: 0.44 \t cost_val: 0.65 \t train_acc: 0.96 \t val_acc: 0.95\n",
      "\n",
      "iter:8 \t cost_train: 0.32 \t cost_val: 0.53 \t train_acc: 0.97 \t val_acc: 0.96\n",
      "\n",
      "iter:12 \t cost_train: 0.24 \t cost_val: 0.48 \t train_acc: 0.98 \t val_acc: 0.97\n",
      "\n",
      "iter:16 \t cost_train: 0.24 \t cost_val: 0.50 \t train_acc: 0.98 \t val_acc: 0.96\n",
      "\n",
      "iter:20 \t cost_train: 0.24 \t cost_val: 0.54 \t train_acc: 0.98 \t val_acc: 0.96\n",
      "\n",
      "iter:24 \t cost_train: 0.21 \t cost_val: 0.54 \t train_acc: 0.98 \t val_acc: 0.97\n",
      "\n",
      "iter:28 \t cost_train: 0.19 \t cost_val: 0.51 \t train_acc: 0.98 \t val_acc: 0.97\n",
      "\n",
      "iter:32 \t cost_train: 0.17 \t cost_val: 0.52 \t train_acc: 0.99 \t val_acc: 0.97\n",
      "\n",
      "iter:36 \t cost_train: 0.16 \t cost_val: 0.53 \t train_acc: 0.99 \t val_acc: 0.97\n"
     ]
    },
    {
     "data": {
      "image/png": "[encoded data removed]",
      "text/plain": [
       "<Figure size 432x288 with 1 Axes>"
      ]
     },
     "metadata": {
      "needs_background": "light"
     },
     "output_type": "display_data"
    },
    {
     "data": {
      "image/png": "[encoded data removed]",
      "text/plain": [
       "<Figure size 432x288 with 1 Axes>"
      ]
     },
     "metadata": {
      "needs_background": "light"
     },
     "output_type": "display_data"
    },
    {
     "name": "stderr",
     "output_type": "stream",
     "text": [
      "\u001b[34m\u001b[1mwandb\u001b[0m: \u001b[33mWARNING\u001b[0m Calling run.save without any arguments is deprecated.Changes to attributes are automatically persisted.\n"
     ]
    },
    {
     "data": {
      "text/html": [
       "<br/>Waiting for W&B process to finish, PID 18036<br/>Program ended successfully."
      ],
      "text/plain": [
       "<IPython.core.display.HTML object>"
      ]
     },
     "metadata": {},
     "output_type": "display_data"
    },
    {
     "data": {
      "application/vnd.jupyter.widget-view+json": {
       "model_id": "",
       "version_major": 2,
       "version_minor": 0
      },
      "text/plain": [
       "VBox(children=(Label(value=' 0.00MB of 0.00MB uploaded (0.00MB deduped)\\r'), FloatProgress(value=1.0, max=1.0)…"
      ]
     },
     "metadata": {},
     "output_type": "display_data"
    },
    {
     "data": {
      "text/html": [
       "Find user logs for this run at: <code>C:\\Users\\Dharani\\wandb\\run-20230319_015437-ufc4tu2c\\logs\\debug.log</code>"
      ],
      "text/plain": [
       "<IPython.core.display.HTML object>"
      ]
     },
     "metadata": {},
     "output_type": "display_data"
    },
    {
     "data": {
      "text/html": [
       "Find internal logs for this run at: <code>C:\\Users\\Dharani\\wandb\\run-20230319_015437-ufc4tu2c\\logs\\debug-internal.log</code>"
      ],
      "text/plain": [
       "<IPython.core.display.HTML object>"
      ]
     },
     "metadata": {},
     "output_type": "display_data"
    },
    {
     "data": {
      "text/html": [
       "<h3>Run summary:</h3><br/><style>\n",
       "    table.wandb td:nth-child(1) { padding: 0 10px; text-align: right }\n",
       "    </style><table class=\"wandb\">\n",
       "<tr><td>training_accuracy</td><td>0.98</td></tr><tr><td>Validation_accuracy</td><td>0.97</td></tr><tr><td>training_loss</td><td>0.19977</td></tr><tr><td>Validation_loss</td><td>0.54868</td></tr><tr><td>_step</td><td>39</td></tr><tr><td>_runtime</td><td>189</td></tr><tr><td>_timestamp</td><td>1679171266</td></tr></table>"
      ],
      "text/plain": [
       "<IPython.core.display.HTML object>"
      ]
     },
     "metadata": {},
     "output_type": "display_data"
    },
    {
     "data": {
      "text/html": [
       "<h3>Run history:</h3><br/><style>\n",
       "    table.wandb td:nth-child(1) { padding: 0 10px; text-align: right }\n",
       "    </style><table class=\"wandb\">\n",
       "<tr><td>training_accuracy</td><td>▁▃▅▅▅▆▆▆▆▆▆▆▇▇▇▇▇▇▇▇▇▇▇▇▇▇▇▇▇▇▇▇██▇██▇█▇</td></tr><tr><td>Validation_accuracy</td><td>▁▄▅▅▅▅▇▇▇▇▇▇█▇▇▇▇▇▇▇▇▇▇▇█▇▇▇█▇▇▇█▇▇▇████</td></tr><tr><td>training_loss</td><td>█▅▄▃▃▃▃▃▂▃▂▂▂▂▂▂▂▁▂▂▂▂▂▁▁▁▂▁▁▁▁▁▁▁▁▁▁▁▁▁</td></tr><tr><td>Validation_loss</td><td>█▅▃▃▃▂▂▂▂▂▁▂▁▂▂▁▁▂▂▂▂▂▂▂▂▁▂▂▁▁▂▂▁▁▂▂▂▂▁▂</td></tr><tr><td>_step</td><td>▁▁▁▂▂▂▂▂▂▃▃▃▃▃▄▄▄▄▄▄▅▅▅▅▅▅▆▆▆▆▆▇▇▇▇▇▇███</td></tr><tr><td>_runtime</td><td>▁▁▁▂▂▂▂▂▃▃▃▃▃▃▄▄▄▄▄▅▅▅▅▅▅▆▆▆▆▆▆▇▇▇▇▇▇███</td></tr><tr><td>_timestamp</td><td>▁▁▁▂▂▂▂▂▃▃▃▃▃▃▄▄▄▄▄▅▅▅▅▅▅▆▆▆▆▆▆▇▇▇▇▇▇███</td></tr></table><br/>"
      ],
      "text/plain": [
       "<IPython.core.display.HTML object>"
      ]
     },
     "metadata": {},
     "output_type": "display_data"
    },
    {
     "data": {
      "text/html": [
       "Synced 5 W&B file(s), 0 media file(s), 0 artifact file(s) and 0 other file(s)"
      ],
      "text/plain": [
       "<IPython.core.display.HTML object>"
      ]
     },
     "metadata": {},
     "output_type": "display_data"
    },
    {
     "data": {
      "text/html": [
       "\n",
       "                    <br/>Synced <strong style=\"color:#cdcd00\">eternal-sweep-1</strong>: <a href=\"https://wandb.ai/dharanivendhanv01/Question_1/runs/ufc4tu2c\" target=\"_blank\">https://wandb.ai/dharanivendhanv01/Question_1/runs/ufc4tu2c</a><br/>\n",
       "                "
      ],
      "text/plain": [
       "<IPython.core.display.HTML object>"
      ]
     },
     "metadata": {},
     "output_type": "display_data"
    }
   ],
   "source": [
    "sweep_config = {\n",
    "    \"name\":\"CS6910 Assignment 1 - Cross Entropy Loss\",\n",
    "    \"Metric\":{\n",
    "        \"name\":\"Validation_accuracy\",\n",
    "        \"goal\":\"maximize\"\n",
    "    },\n",
    "    \"method\":\"grid\",\n",
    "    \"parameters\":{\n",
    "        \"learning_rate\":{\n",
    "            \"values\":[0.01]\n",
    "        },\n",
    "        \"activation_function\":{\n",
    "            \"values\":[\"ReLu\"]\n",
    "        },\n",
    "        \"loss\":{\n",
    "            \"values\":[\"cross_entropy\"]\n",
    "        },\n",
    "        \"init_mode\":{\n",
    "            \"values\":[\"Random_normal\"]\n",
    "        },\n",
    "        \"optimizer\":{\n",
    "            \"values\":[\"adam\"]\n",
    "        },\n",
    "        \"Batch_size\":{\n",
    "        \"values\":[32]\n",
    "        },\n",
    "        \"iterations\":{\n",
    "            \"values\":[40]\n",
    "        },\n",
    "        \"lamb\":{\n",
    "            \"values\":[0]\n",
    "        },\n",
    "        \"num_neurons\":{\n",
    "            \"values\":[128]\n",
    "        },\n",
    "        \"num_hidden\":{\n",
    "            \"values\":[1]\n",
    "        }\n",
    "    }\n",
    "}\n",
    "\n",
    "sweep_id = wandb.sweep(sweep_config,project=\"Question_1\")\n",
    "wandb.agent(sweep_id,Neural_Network,count=1)"
   ]
  },
  {
   "cell_type": "code",
   "execution_count": 32,
   "id": "f912f9da",
   "metadata": {},
   "outputs": [
    {
     "name": "stdout",
     "output_type": "stream",
     "text": [
      "Create sweep with ID: djeovc2j\n",
      "Sweep URL: https://wandb.ai/dharanivendhanv01/Question_1/sweeps/djeovc2j\n"
     ]
    },
    {
     "name": "stderr",
     "output_type": "stream",
     "text": [
      "\u001b[34m\u001b[1mwandb\u001b[0m: Agent Starting Run: i0apxygm with config:\n",
      "\u001b[34m\u001b[1mwandb\u001b[0m: \tBatch_size: 64\n",
      "\u001b[34m\u001b[1mwandb\u001b[0m: \tactivation_function: ReLu\n",
      "\u001b[34m\u001b[1mwandb\u001b[0m: \tinit_mode: Xavier\n",
      "\u001b[34m\u001b[1mwandb\u001b[0m: \titerations: 15\n",
      "\u001b[34m\u001b[1mwandb\u001b[0m: \tlamb: 0.05\n",
      "\u001b[34m\u001b[1mwandb\u001b[0m: \tlearning_rate: 0.001\n",
      "\u001b[34m\u001b[1mwandb\u001b[0m: \tloss: cross_entropy\n",
      "\u001b[34m\u001b[1mwandb\u001b[0m: \tnum_hidden: 2\n",
      "\u001b[34m\u001b[1mwandb\u001b[0m: \tnum_neurons: 32\n",
      "\u001b[34m\u001b[1mwandb\u001b[0m: \toptimizer: nadam\n",
      "\u001b[34m\u001b[1mwandb\u001b[0m: wandb version 0.14.0 is available!  To upgrade, please run:\n",
      "\u001b[34m\u001b[1mwandb\u001b[0m:  $ pip install wandb --upgrade\n"
     ]
    },
    {
     "data": {
      "text/html": [
       "\n",
       "                Tracking run with wandb version 0.10.8<br/>\n",
       "                Syncing run <strong style=\"color:#cdcd00\">worldly-sweep-1</strong> to <a href=\"https://wandb.ai\" target=\"_blank\">Weights & Biases</a> <a href=\"https://docs.wandb.com/integrations/jupyter.html\" target=\"_blank\">(Documentation)</a>.<br/>\n",
       "                Project page: <a href=\"https://wandb.ai/dharanivendhanv01/Question_1\" target=\"_blank\">https://wandb.ai/dharanivendhanv01/Question_1</a><br/>\n",
       "                Sweep page: <a href=\"https://wandb.ai/dharanivendhanv01/Question_1/sweeps/djeovc2j\" target=\"_blank\">https://wandb.ai/dharanivendhanv01/Question_1/sweeps/djeovc2j</a><br/>\n",
       "Run page: <a href=\"https://wandb.ai/dharanivendhanv01/Question_1/runs/i0apxygm\" target=\"_blank\">https://wandb.ai/dharanivendhanv01/Question_1/runs/i0apxygm</a><br/>\n",
       "                Run data is saved locally in <code>C:\\Users\\Dharani\\wandb\\run-20230319_015759-i0apxygm</code><br/><br/>\n",
       "            "
      ],
      "text/plain": [
       "<IPython.core.display.HTML object>"
      ]
     },
     "metadata": {},
     "output_type": "display_data"
    },
    {
     "name": "stdout",
     "output_type": "stream",
     "text": [
      "learningrate:0.001 \t activationfunction:ReLu \t init_mode:Xavier \t batchsize:64 \t optimizer:nadam \t L2:0.05 \t epochs:15 \t num_hidden:2 \t num_neurons:32\n",
      "\n",
      "iter:0 \t cost_train: 2.37 \t cost_val: 2.39 \t train_acc: 0.44 \t val_acc: 0.45\n",
      "\n",
      "iter:3 \t cost_train: 0.47 \t cost_val: 0.48 \t train_acc: 0.88 \t val_acc: 0.88\n",
      "\n",
      "iter:6 \t cost_train: 0.24 \t cost_val: 0.25 \t train_acc: 0.93 \t val_acc: 0.93\n",
      "\n",
      "iter:9 \t cost_train: 0.19 \t cost_val: 0.19 \t train_acc: 0.95 \t val_acc: 0.95\n",
      "\n",
      "iter:12 \t cost_train: 0.17 \t cost_val: 0.17 \t train_acc: 0.95 \t val_acc: 0.95\n"
     ]
    },
    {
     "data": {
      "image/png": "[encoded data removed]",
      "text/plain": [
       "<Figure size 432x288 with 1 Axes>"
      ]
     },
     "metadata": {
      "needs_background": "light"
     },
     "output_type": "display_data"
    },
    {
     "data": {
      "image/png": "[encoded data removed]",
      "text/plain": [
       "<Figure size 432x288 with 1 Axes>"
      ]
     },
     "metadata": {
      "needs_background": "light"
     },
     "output_type": "display_data"
    },
    {
     "name": "stderr",
     "output_type": "stream",
     "text": [
      "\u001b[34m\u001b[1mwandb\u001b[0m: \u001b[33mWARNING\u001b[0m Calling run.save without any arguments is deprecated.Changes to attributes are automatically persisted.\n"
     ]
    },
    {
     "data": {
      "text/html": [
       "<br/>Waiting for W&B process to finish, PID 21296<br/>Program ended successfully."
      ],
      "text/plain": [
       "<IPython.core.display.HTML object>"
      ]
     },
     "metadata": {},
     "output_type": "display_data"
    },
    {
     "data": {
      "application/vnd.jupyter.widget-view+json": {
       "model_id": "",
       "version_major": 2,
       "version_minor": 0
      },
      "text/plain": [
       "VBox(children=(Label(value=' 0.00MB of 0.00MB uploaded (0.00MB deduped)\\r'), FloatProgress(value=1.0, max=1.0)…"
      ]
     },
     "metadata": {},
     "output_type": "display_data"
    },
    {
     "data": {
      "text/html": [
       "Find user logs for this run at: <code>C:\\Users\\Dharani\\wandb\\run-20230319_015759-i0apxygm\\logs\\debug.log</code>"
      ],
      "text/plain": [
       "<IPython.core.display.HTML object>"
      ]
     },
     "metadata": {},
     "output_type": "display_data"
    },
    {
     "data": {
      "text/html": [
       "Find internal logs for this run at: <code>C:\\Users\\Dharani\\wandb\\run-20230319_015759-i0apxygm\\logs\\debug-internal.log</code>"
      ],
      "text/plain": [
       "<IPython.core.display.HTML object>"
      ]
     },
     "metadata": {},
     "output_type": "display_data"
    },
    {
     "data": {
      "text/html": [
       "<h3>Run summary:</h3><br/><style>\n",
       "    table.wandb td:nth-child(1) { padding: 0 10px; text-align: right }\n",
       "    </style><table class=\"wandb\">\n",
       "<tr><td>training_accuracy</td><td>0.95</td></tr><tr><td>Validation_accuracy</td><td>0.95</td></tr><tr><td>training_loss</td><td>0.16524</td></tr><tr><td>Validation_loss</td><td>0.16671</td></tr><tr><td>_step</td><td>14</td></tr><tr><td>_runtime</td><td>19</td></tr><tr><td>_timestamp</td><td>1679171298</td></tr></table>"
      ],
      "text/plain": [
       "<IPython.core.display.HTML object>"
      ]
     },
     "metadata": {},
     "output_type": "display_data"
    },
    {
     "data": {
      "text/html": [
       "<h3>Run history:</h3><br/><style>\n",
       "    table.wandb td:nth-child(1) { padding: 0 10px; text-align: right }\n",
       "    </style><table class=\"wandb\">\n",
       "<tr><td>training_accuracy</td><td>▁▄▆▇▇██████████</td></tr><tr><td>Validation_accuracy</td><td>▁▄▆▇▇██████████</td></tr><tr><td>training_loss</td><td>█▅▃▂▂▁▁▁▁▁▁▁▁▁▁</td></tr><tr><td>Validation_loss</td><td>█▅▃▂▂▁▁▁▁▁▁▁▁▁▁</td></tr><tr><td>_step</td><td>▁▁▂▃▃▃▄▅▅▅▆▇▇▇█</td></tr><tr><td>_runtime</td><td>▁▁▂▂▃▃▄▄▅▆▆▇▇██</td></tr><tr><td>_timestamp</td><td>▁▁▂▂▃▃▄▄▅▆▆▇▇██</td></tr></table><br/>"
      ],
      "text/plain": [
       "<IPython.core.display.HTML object>"
      ]
     },
     "metadata": {},
     "output_type": "display_data"
    },
    {
     "data": {
      "text/html": [
       "Synced 5 W&B file(s), 0 media file(s), 0 artifact file(s) and 0 other file(s)"
      ],
      "text/plain": [
       "<IPython.core.display.HTML object>"
      ]
     },
     "metadata": {},
     "output_type": "display_data"
    },
    {
     "data": {
      "text/html": [
       "\n",
       "                    <br/>Synced <strong style=\"color:#cdcd00\">worldly-sweep-1</strong>: <a href=\"https://wandb.ai/dharanivendhanv01/Question_1/runs/i0apxygm\" target=\"_blank\">https://wandb.ai/dharanivendhanv01/Question_1/runs/i0apxygm</a><br/>\n",
       "                "
      ],
      "text/plain": [
       "<IPython.core.display.HTML object>"
      ]
     },
     "metadata": {},
     "output_type": "display_data"
    }
   ],
   "source": [
    "sweep_config = {\n",
    "    \"name\":\"CS6910 Assignment 1 - Cross Entropy Loss\",\n",
    "    \"Metric\":{\n",
    "        \"name\":\"Validation_accuracy\",\n",
    "        \"goal\":\"maximize\"\n",
    "    },\n",
    "    \"method\":\"random\",\n",
    "    \"parameters\":{\n",
    "        \"learning_rate\":{\n",
    "            \"values\":[0.001]\n",
    "        },\n",
    "        \"activation_function\":{\n",
    "            \"values\":[\"ReLu\"]\n",
    "        },\n",
    "        \"loss\":{\n",
    "            \"values\":[\"cross_entropy\"]\n",
    "        },\n",
    "        \"init_mode\":{\n",
    "            \"values\":[\"Xavier\"]\n",
    "        },\n",
    "        \"optimizer\":{\n",
    "            \"values\":[\"nadam\"]\n",
    "        },\n",
    "        \"Batch_size\":{\n",
    "        \"values\":[64]\n",
    "        },\n",
    "        \"iterations\":{\n",
    "            \"values\":[15]\n",
    "        },\n",
    "        \"lamb\":{\n",
    "            \"values\":[0.05]\n",
    "        },\n",
    "        \"num_neurons\":{\n",
    "            \"values\":[32]\n",
    "        },\n",
    "        \"num_hidden\":{\n",
    "            \"values\":[2]\n",
    "        }\n",
    "    }\n",
    "}\n",
    "\n",
    "sweep_id = wandb.sweep(sweep_config,project=\"Question_1\")\n",
    "wandb.agent(sweep_id,Neural_Network,count=1)"
   ]
  },
  {
   "cell_type": "code",
   "execution_count": 31,
   "id": "d1304df6",
   "metadata": {},
   "outputs": [
    {
     "name": "stderr",
     "output_type": "stream",
     "text": [
      "\u001b[34m\u001b[1mwandb\u001b[0m: \u001b[33mWARNING\u001b[0m Calling wandb.login() after wandb.init() has no effect.\n",
      "\u001b[34m\u001b[1mwandb\u001b[0m: \u001b[33mWARNING\u001b[0m Calling wandb.login() after wandb.init() has no effect.\n"
     ]
    },
    {
     "name": "stdout",
     "output_type": "stream",
     "text": [
      "Create sweep with ID: oh98trq7\n",
      "Sweep URL: https://wandb.ai/dharanivendhanv01/Question_1/sweeps/oh98trq7\n"
     ]
    },
    {
     "name": "stderr",
     "output_type": "stream",
     "text": [
      "\u001b[34m\u001b[1mwandb\u001b[0m: Agent Starting Run: 5pbdmu4h with config:\n",
      "\u001b[34m\u001b[1mwandb\u001b[0m: \tBatch_size: 64\n",
      "\u001b[34m\u001b[1mwandb\u001b[0m: \tactivation_function: ReLu\n",
      "\u001b[34m\u001b[1mwandb\u001b[0m: \tinit_mode: Random_normal\n",
      "\u001b[34m\u001b[1mwandb\u001b[0m: \titerations: 20\n",
      "\u001b[34m\u001b[1mwandb\u001b[0m: \tlamb: 0.05\n",
      "\u001b[34m\u001b[1mwandb\u001b[0m: \tlearning_rate: 0.001\n",
      "\u001b[34m\u001b[1mwandb\u001b[0m: \tloss: cross_entropy\n",
      "\u001b[34m\u001b[1mwandb\u001b[0m: \tnum_hidden: 1\n",
      "\u001b[34m\u001b[1mwandb\u001b[0m: \tnum_neurons: 32\n",
      "\u001b[34m\u001b[1mwandb\u001b[0m: \toptimizer: RMS\n",
      "\u001b[34m\u001b[1mwandb\u001b[0m: \u001b[33mWARNING\u001b[0m Calling wandb.login() after wandb.init() has no effect.\n"
     ]
    },
    {
     "data": {
      "text/html": [
       "\n",
       "                Tracking run with wandb version 0.10.8<br/>\n",
       "                Syncing run <strong style=\"color:#cdcd00\">zesty-sweep-1</strong> to <a href=\"https://wandb.ai\" target=\"_blank\">Weights & Biases</a> <a href=\"https://docs.wandb.com/integrations/jupyter.html\" target=\"_blank\">(Documentation)</a>.<br/>\n",
       "                Project page: <a href=\"https://wandb.ai/dharanivendhanv01/Question_1\" target=\"_blank\">https://wandb.ai/dharanivendhanv01/Question_1</a><br/>\n",
       "                Sweep page: <a href=\"https://wandb.ai/dharanivendhanv01/Question_1/sweeps/oh98trq7\" target=\"_blank\">https://wandb.ai/dharanivendhanv01/Question_1/sweeps/oh98trq7</a><br/>\n",
       "Run page: <a href=\"https://wandb.ai/dharanivendhanv01/Question_1/runs/5pbdmu4h\" target=\"_blank\">https://wandb.ai/dharanivendhanv01/Question_1/runs/5pbdmu4h</a><br/>\n",
       "                Run data is saved locally in <code>C:\\Users\\Dharani\\wandb\\run-20230318_210032-5pbdmu4h</code><br/><br/>\n",
       "            "
      ],
      "text/plain": [
       "<IPython.core.display.HTML object>"
      ]
     },
     "metadata": {},
     "output_type": "display_data"
    },
    {
     "name": "stdout",
     "output_type": "stream",
     "text": [
      "learningrate:0.001 \t activationfunction:ReLu \t init_mode:Random_normal \t batchsize:64 \t optimizer:RMS \t L2:0.05 \t epochs:20 \t num_hidden:1 \t num_neurons:32\n",
      "\n",
      "iter:0 \t cost_train: 1.41 \t cost_val: 1.50 \t train_acc: 0.63 \t val_acc: 0.62\n",
      "\n",
      "iter:2 \t cost_train: 0.63 \t cost_val: 0.69 \t train_acc: 0.78 \t val_acc: 0.78\n",
      "\n",
      "iter:4 \t cost_train: 0.49 \t cost_val: 0.52 \t train_acc: 0.82 \t val_acc: 0.82\n",
      "\n",
      "iter:6 \t cost_train: 0.42 \t cost_val: 0.44 \t train_acc: 0.85 \t val_acc: 0.84\n",
      "\n",
      "iter:8 \t cost_train: 0.39 \t cost_val: 0.40 \t train_acc: 0.86 \t val_acc: 0.86\n",
      "\n",
      "iter:10 \t cost_train: 0.36 \t cost_val: 0.38 \t train_acc: 0.87 \t val_acc: 0.86\n",
      "\n",
      "iter:12 \t cost_train: 0.35 \t cost_val: 0.37 \t train_acc: 0.88 \t val_acc: 0.87\n",
      "\n",
      "iter:14 \t cost_train: 0.33 \t cost_val: 0.36 \t train_acc: 0.88 \t val_acc: 0.87\n",
      "\n",
      "iter:16 \t cost_train: 0.33 \t cost_val: 0.35 \t train_acc: 0.88 \t val_acc: 0.87\n",
      "\n",
      "iter:18 \t cost_train: 0.32 \t cost_val: 0.35 \t train_acc: 0.88 \t val_acc: 0.87\n"
     ]
    },
    {
     "data": {
      "image/png": "[encoded data removed]",
      "text/plain": [
       "<Figure size 432x288 with 1 Axes>"
      ]
     },
     "metadata": {
      "needs_background": "light"
     },
     "output_type": "display_data"
    },
    {
     "data": {
      "image/png": "[encoded data removed]",
      "text/plain": [
       "<Figure size 432x288 with 1 Axes>"
      ]
     },
     "metadata": {
      "needs_background": "light"
     },
     "output_type": "display_data"
    },
    {
     "name": "stderr",
     "output_type": "stream",
     "text": [
      "\u001b[34m\u001b[1mwandb\u001b[0m: \u001b[33mWARNING\u001b[0m Calling run.save without any arguments is deprecated.Changes to attributes are automatically persisted.\n"
     ]
    },
    {
     "data": {
      "text/html": [
       "<br/>Waiting for W&B process to finish, PID 4080<br/>Program ended successfully."
      ],
      "text/plain": [
       "<IPython.core.display.HTML object>"
      ]
     },
     "metadata": {},
     "output_type": "display_data"
    },
    {
     "data": {
      "application/vnd.jupyter.widget-view+json": {
       "model_id": "",
       "version_major": 2,
       "version_minor": 0
      },
      "text/plain": [
       "VBox(children=(Label(value=' 0.00MB of 0.00MB uploaded (0.00MB deduped)\\r'), FloatProgress(value=1.0, max=1.0)…"
      ]
     },
     "metadata": {},
     "output_type": "display_data"
    },
    {
     "data": {
      "text/html": [
       "Find user logs for this run at: <code>C:\\Users\\Dharani\\wandb\\run-20230318_210032-5pbdmu4h\\logs\\debug.log</code>"
      ],
      "text/plain": [
       "<IPython.core.display.HTML object>"
      ]
     },
     "metadata": {},
     "output_type": "display_data"
    },
    {
     "data": {
      "text/html": [
       "Find internal logs for this run at: <code>C:\\Users\\Dharani\\wandb\\run-20230318_210032-5pbdmu4h\\logs\\debug-internal.log</code>"
      ],
      "text/plain": [
       "<IPython.core.display.HTML object>"
      ]
     },
     "metadata": {},
     "output_type": "display_data"
    },
    {
     "data": {
      "text/html": [
       "<h3>Run summary:</h3><br/><style>\n",
       "    table.wandb td:nth-child(1) { padding: 0 10px; text-align: right }\n",
       "    </style><table class=\"wandb\">\n",
       "<tr><td>training_accuracy</td><td>0.88</td></tr><tr><td>Validation_accuracy</td><td>0.87</td></tr><tr><td>training_loss</td><td>0.32226</td></tr><tr><td>Validation_loss</td><td>0.35106</td></tr><tr><td>_step</td><td>19</td></tr><tr><td>_runtime</td><td>22</td></tr><tr><td>_timestamp</td><td>1679153454</td></tr></table>"
      ],
      "text/plain": [
       "<IPython.core.display.HTML object>"
      ]
     },
     "metadata": {},
     "output_type": "display_data"
    },
    {
     "data": {
      "text/html": [
       "<h3>Run history:</h3><br/><style>\n",
       "    table.wandb td:nth-child(1) { padding: 0 10px; text-align: right }\n",
       "    </style><table class=\"wandb\">\n",
       "<tr><td>training_accuracy</td><td>▁▄▅▆▆▇▇▇▇▇██████████</td></tr><tr><td>Validation_accuracy</td><td>▁▅▅▆▇▇▇▇████████████</td></tr><tr><td>training_loss</td><td>█▄▃▂▂▂▂▁▁▁▁▁▁▁▁▁▁▁▁▁</td></tr><tr><td>Validation_loss</td><td>█▄▃▂▂▂▂▁▁▁▁▁▁▁▁▁▁▁▁▁</td></tr><tr><td>_step</td><td>▁▁▂▂▂▃▃▄▄▄▅▅▅▆▆▇▇▇██</td></tr><tr><td>_runtime</td><td>▁▁▂▂▂▃▃▃▄▅▅▅▅▆▆▆▇▇▇█</td></tr><tr><td>_timestamp</td><td>▁▁▂▂▂▃▃▃▄▅▅▅▅▆▆▆▇▇▇█</td></tr></table><br/>"
      ],
      "text/plain": [
       "<IPython.core.display.HTML object>"
      ]
     },
     "metadata": {},
     "output_type": "display_data"
    },
    {
     "data": {
      "text/html": [
       "Synced 5 W&B file(s), 0 media file(s), 0 artifact file(s) and 0 other file(s)"
      ],
      "text/plain": [
       "<IPython.core.display.HTML object>"
      ]
     },
     "metadata": {},
     "output_type": "display_data"
    },
    {
     "data": {
      "text/html": [
       "\n",
       "                    <br/>Synced <strong style=\"color:#cdcd00\">zesty-sweep-1</strong>: <a href=\"https://wandb.ai/dharanivendhanv01/Question_1/runs/5pbdmu4h\" target=\"_blank\">https://wandb.ai/dharanivendhanv01/Question_1/runs/5pbdmu4h</a><br/>\n",
       "                "
      ],
      "text/plain": [
       "<IPython.core.display.HTML object>"
      ]
     },
     "metadata": {},
     "output_type": "display_data"
    }
   ],
   "source": [
    "sweep_config = {\n",
    "    \"name\":\"CS6910 Assignment 1 - Cross Entropy Loss\",\n",
    "    \"Metric\":{\n",
    "        \"name\":\"Validation_accuracy\",\n",
    "        \"goal\":\"maximize\"\n",
    "    },\n",
    "    \"method\":\"grid\",\n",
    "    \"parameters\":{\n",
    "        \"learning_rate\":{\n",
    "            \"values\":[0.001]\n",
    "        },\n",
    "        \"activation_function\":{\n",
    "            \"values\":[\"ReLu\"]\n",
    "        },\n",
    "        \"loss\":{\n",
    "            \"values\":[\"cross_entropy\"]\n",
    "        },\n",
    "        \"init_mode\":{\n",
    "            \"values\":[\"Random_normal\"]\n",
    "        },\n",
    "        \"optimizer\":{\n",
    "            \"values\":[\"RMS\"]\n",
    "        },\n",
    "        \"Batch_size\":{\n",
    "        \"values\":[64]\n",
    "        },\n",
    "        \"iterations\":{\n",
    "            \"values\":[20]\n",
    "        },\n",
    "        \"lamb\":{\n",
    "            \"values\":[0.05]\n",
    "        },\n",
    "        \"num_neurons\":{\n",
    "            \"values\":[32]\n",
    "        },\n",
    "        \"num_hidden\":{\n",
    "            \"values\":[1]\n",
    "        }\n",
    "    }\n",
    "}\n",
    "\n",
    "sweep_id = wandb.sweep(sweep_config,project=\"Question_1\")\n",
    "wandb.agent(sweep_id,Neural_Network,count=1)"
   ]
  },
  {
   "cell_type": "code",
   "execution_count": null,
   "id": "366790bc",
   "metadata": {},
   "outputs": [],
   "source": []
  }
 ],
 "metadata": {
  "kernelspec": {
   "display_name": "Python 3 (ipykernel)",
   "language": "python",
   "name": "python3"
  },
  "language_info": {
   "codemirror_mode": {
    "name": "ipython",
    "version": 3
   },
   "file_extension": ".py",
   "mimetype": "text/x-python",
   "name": "python",
   "nbconvert_exporter": "python",
   "pygments_lexer": "ipython3",
   "version": "3.9.12"
  }
 },
 "nbformat": 4,
 "nbformat_minor": 5
}
