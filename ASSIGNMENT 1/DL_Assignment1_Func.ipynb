{
 "cells": [
  {
   "cell_type": "markdown",
   "id": "e07c4566",
   "metadata": {},
   "source": [
    "## Importing Libraries And Downloading Data"
   ]
  },
  {
   "cell_type": "code",
   "execution_count": 1,
   "id": "d8163f30",
   "metadata": {
    "scrolled": true
   },
   "outputs": [
    {
     "name": "stdout",
     "output_type": "stream",
     "text": [
      "Requirement already satisfied: wandb in c:\\users\\dharani\\anaconda3\\lib\\site-packages (0.14.0)\n",
      "Requirement already satisfied: Click!=8.0.0,>=7.0 in c:\\users\\dharani\\anaconda3\\lib\\site-packages (from wandb) (8.0.4)\n",
      "Requirement already satisfied: setproctitle in c:\\users\\dharani\\anaconda3\\lib\\site-packages (from wandb) (1.3.2)\n",
      "Requirement already satisfied: PyYAML in c:\\users\\dharani\\anaconda3\\lib\\site-packages (from wandb) (6.0)\n",
      "Requirement already satisfied: GitPython!=3.1.29,>=1.0.0 in c:\\users\\dharani\\anaconda3\\lib\\site-packages (from wandb) (3.1.31)\n",
      "Requirement already satisfied: setuptools in c:\\users\\dharani\\anaconda3\\lib\\site-packages (from wandb) (61.2.0)\n",
      "Requirement already satisfied: requests<3,>=2.0.0 in c:\\users\\dharani\\anaconda3\\lib\\site-packages (from wandb) (2.27.1)\n",
      "Requirement already satisfied: sentry-sdk>=1.0.0 in c:\\users\\dharani\\anaconda3\\lib\\site-packages (from wandb) (1.15.0)\n",
      "Requirement already satisfied: appdirs>=1.4.3 in c:\\users\\dharani\\anaconda3\\lib\\site-packages (from wandb) (1.4.4)\n",
      "Requirement already satisfied: typing-extensions in c:\\users\\dharani\\anaconda3\\lib\\site-packages (from wandb) (4.1.1)\n",
      "Requirement already satisfied: pathtools in c:\\users\\dharani\\anaconda3\\lib\\site-packages (from wandb) (0.1.2)\n",
      "Requirement already satisfied: docker-pycreds>=0.4.0 in c:\\users\\dharani\\anaconda3\\lib\\site-packages (from wandb) (0.4.0)\n",
      "Requirement already satisfied: protobuf!=4.21.0,<5,>=3.19.0 in c:\\users\\dharani\\anaconda3\\lib\\site-packages (from wandb) (3.19.1)\n",
      "Requirement already satisfied: psutil>=5.0.0 in c:\\users\\dharani\\anaconda3\\lib\\site-packages (from wandb) (5.8.0)\n",
      "Requirement already satisfied: colorama in c:\\users\\dharani\\anaconda3\\lib\\site-packages (from Click!=8.0.0,>=7.0->wandb) (0.4.4)\n",
      "Requirement already satisfied: six>=1.4.0 in c:\\users\\dharani\\anaconda3\\lib\\site-packages (from docker-pycreds>=0.4.0->wandb) (1.16.0)\n",
      "Requirement already satisfied: gitdb<5,>=4.0.1 in c:\\users\\dharani\\anaconda3\\lib\\site-packages (from GitPython!=3.1.29,>=1.0.0->wandb) (4.0.10)\n",
      "Requirement already satisfied: smmap<6,>=3.0.1 in c:\\users\\dharani\\anaconda3\\lib\\site-packages (from gitdb<5,>=4.0.1->GitPython!=3.1.29,>=1.0.0->wandb) (5.0.0)\n",
      "Requirement already satisfied: charset-normalizer~=2.0.0 in c:\\users\\dharani\\anaconda3\\lib\\site-packages (from requests<3,>=2.0.0->wandb) (2.0.4)\n",
      "Requirement already satisfied: certifi>=2017.4.17 in c:\\users\\dharani\\anaconda3\\lib\\site-packages (from requests<3,>=2.0.0->wandb) (2021.10.8)\n",
      "Requirement already satisfied: urllib3<1.27,>=1.21.1 in c:\\users\\dharani\\anaconda3\\lib\\site-packages (from requests<3,>=2.0.0->wandb) (1.26.14)\n",
      "Requirement already satisfied: idna<4,>=2.5 in c:\\users\\dharani\\anaconda3\\lib\\site-packages (from requests<3,>=2.0.0->wandb) (3.3)\n"
     ]
    }
   ],
   "source": [
    "import numpy as np\n",
    "import pandas as pd\n",
    "from keras.datasets import fashion_mnist\n",
    "import matplotlib.pyplot as plt\n",
    "import random\n",
    "import math\n",
    "from sklearn.model_selection import train_test_split\n",
    "!pip install wandb\n",
    "import wandb\n"
   ]
  },
  {
   "cell_type": "code",
   "execution_count": 2,
   "id": "c80f8fd4",
   "metadata": {},
   "outputs": [
    {
     "name": "stderr",
     "output_type": "stream",
     "text": [
      "\u001b[34m\u001b[1mwandb\u001b[0m: Currently logged in as: \u001b[33mdharanivendhanv01\u001b[0m. Use \u001b[1m`wandb login --relogin`\u001b[0m to force relogin\n"
     ]
    },
    {
     "data": {
      "text/html": [
       "Tracking run with wandb version 0.14.0"
      ],
      "text/plain": [
       "<IPython.core.display.HTML object>"
      ]
     },
     "metadata": {},
     "output_type": "display_data"
    },
    {
     "data": {
      "text/html": [
       "Run data is saved locally in <code>C:\\Users\\Dharani\\wandb\\run-20230319_171653-v6btwxye</code>"
      ],
      "text/plain": [
       "<IPython.core.display.HTML object>"
      ]
     },
     "metadata": {},
     "output_type": "display_data"
    },
    {
     "data": {
      "text/html": [
       "Syncing run <strong><a href='https://wandb.ai/dharanivendhanv01/Deep%20Learning%20Assignment/runs/v6btwxye' target=\"_blank\">peach-cherry-13</a></strong> to <a href='https://wandb.ai/dharanivendhanv01/Deep%20Learning%20Assignment' target=\"_blank\">Weights & Biases</a> (<a href='https://wandb.me/run' target=\"_blank\">docs</a>)<br/>"
      ],
      "text/plain": [
       "<IPython.core.display.HTML object>"
      ]
     },
     "metadata": {},
     "output_type": "display_data"
    },
    {
     "data": {
      "text/html": [
       " View project at <a href='https://wandb.ai/dharanivendhanv01/Deep%20Learning%20Assignment' target=\"_blank\">https://wandb.ai/dharanivendhanv01/Deep%20Learning%20Assignment</a>"
      ],
      "text/plain": [
       "<IPython.core.display.HTML object>"
      ]
     },
     "metadata": {},
     "output_type": "display_data"
    },
    {
     "data": {
      "text/html": [
       " View run at <a href='https://wandb.ai/dharanivendhanv01/Deep%20Learning%20Assignment/runs/v6btwxye' target=\"_blank\">https://wandb.ai/dharanivendhanv01/Deep%20Learning%20Assignment/runs/v6btwxye</a>"
      ],
      "text/plain": [
       "<IPython.core.display.HTML object>"
      ]
     },
     "metadata": {},
     "output_type": "display_data"
    },
    {
     "data": {
      "text/html": [
       "<button onClick=\"this.nextSibling.style.display='block';this.style.display='none';\">Display W&B run</button><iframe src='https://wandb.ai/dharanivendhanv01/Deep%20Learning%20Assignment/runs/v6btwxye?jupyter=true' style='border:none;width:100%;height:420px;display:none;'></iframe>"
      ],
      "text/plain": [
       "<wandb.sdk.wandb_run.Run at 0x18fa8d99d00>"
      ]
     },
     "execution_count": 2,
     "metadata": {},
     "output_type": "execute_result"
    }
   ],
   "source": [
    "wandb.login()\n",
    "wandb.init(project = \"\")\n"
   ]
  },
  {
   "cell_type": "markdown",
   "id": "19fa8607",
   "metadata": {},
   "source": [
    "### Splitting data"
   ]
  },
  {
   "cell_type": "code",
   "execution_count": 3,
   "id": "5cbf1863",
   "metadata": {},
   "outputs": [],
   "source": [
    "#splitting the data\n",
    "\n",
    "(x1,y1),(x2,y2) = fashion_mnist.load_data()\n",
    "x1 = x1 / 255.0\n",
    "x2 = x2 / 255.0\n",
    "x_train1,x_test2,y_train1,y_test2 = train_test_split(x1 , y1 , test_size = 0.1 , random_state = 0)"
   ]
  },
  {
   "cell_type": "markdown",
   "id": "bcdb297b",
   "metadata": {},
   "source": [
    "### Data preprocessing"
   ]
  },
  {
   "cell_type": "code",
   "execution_count": 4,
   "id": "d1de0dfa",
   "metadata": {},
   "outputs": [
    {
     "name": "stdout",
     "output_type": "stream",
     "text": [
      "without one-hot encoding\n",
      "shape of x_train : (784, 54000)\n",
      "shape of y_train : (1, 54000)\n",
      "shape of x_test  : (784, 6000)\n",
      "shape of y_test  : (1, 6000)\n"
     ]
    }
   ],
   "source": [
    "x_train = x_train1.reshape(54000,784).T\n",
    "y1_train = y_train1.reshape(54000,1).T\n",
    "x_test  = x_test2.reshape(6000,784).T\n",
    "y1_test  = y_test2.reshape(6000,1).T\n",
    "print(\"without one-hot encoding\")\n",
    "print(\"shape of x_train :\",x_train.shape)\n",
    "print(\"shape of y_train :\",y1_train.shape)\n",
    "print(\"shape of x_test  :\",x_test.shape)\n",
    "print(\"shape of y_test  :\",y1_test.shape)"
   ]
  },
  {
   "cell_type": "code",
   "execution_count": 5,
   "id": "35e1f72b",
   "metadata": {},
   "outputs": [],
   "source": [
    "#one hot encoding\n",
    "\n",
    "y_train = np.zeros((10,y1_train.shape[1]))\n",
    "for i in range(0,y1_train.shape[1]):\n",
    "    for j in range(0,10):\n",
    "        if y1_train[0,i] == j:\n",
    "            y_train[j,i] = 1\n",
    "            \n",
    "y_test = np.zeros((10,y1_test.shape[1]))\n",
    "for i in range(0,y1_test.shape[1]):\n",
    "    for j in range(0,10):\n",
    "        if y1_test[0,i] == j:\n",
    "            y_test[j,i] = 1\n"
   ]
  },
  {
   "cell_type": "code",
   "execution_count": 6,
   "id": "9d0fec8a",
   "metadata": {},
   "outputs": [
    {
     "name": "stdout",
     "output_type": "stream",
     "text": [
      "after one_hot encoding\n",
      "number of classes: 10\n",
      "shape of x_train : (784, 54000)\n",
      "shape of y_train : (10, 54000)\n",
      "shape of x_test  : (784, 6000)\n",
      "shape of y_test  : (10, 6000)\n"
     ]
    }
   ],
   "source": [
    "num_classes = y_train.shape[0]\n",
    "class_name = {0: \"T-shirt/top\", 1: \"Trouser\", 2: \"Pullover\", 3: \"Dress\", 4: \"Coat\", 5: \"Sandal\", 6: \"Shirt\", 7: \"Sneaker\", 8: \"Bag\", 9: \"Ankle boot\"}\n",
    "print(\"after one_hot encoding\")\n",
    "print(\"number of classes:\",num_classes)\n",
    "print(\"shape of x_train :\",x_train.shape)\n",
    "print(\"shape of y_train :\",y_train.shape)\n",
    "print(\"shape of x_test  :\",x_test.shape)\n",
    "print(\"shape of y_test  :\",y_test.shape)\n"
   ]
  },
  {
   "cell_type": "markdown",
   "id": "7aecbd34",
   "metadata": {},
   "source": [
    "### Logging sample images"
   ]
  },
  {
   "cell_type": "code",
   "execution_count": 7,
   "id": "832a5405",
   "metadata": {},
   "outputs": [
    {
     "data": {
      "image/png": "[encoded data removed]",
      "text/plain": [
       "<Figure size 432x288 with 1 Axes>"
      ]
     },
     "metadata": {
      "needs_background": "light"
     },
     "output_type": "display_data"
    },
    {
     "data": {
      "image/png": "[encoded data removed]",
      "text/plain": [
       "<Figure size 432x288 with 1 Axes>"
      ]
     },
     "metadata": {
      "needs_background": "light"
     },
     "output_type": "display_data"
    },
    {
     "data": {
      "image/png": "[encoded data removed]",
      "text/plain": [
       "<Figure size 432x288 with 1 Axes>"
      ]
     },
     "metadata": {
      "needs_background": "light"
     },
     "output_type": "display_data"
    },
    {
     "data": {
      "image/png": "[encoded data removed]",
      "text/plain": [
       "<Figure size 432x288 with 1 Axes>"
      ]
     },
     "metadata": {
      "needs_background": "light"
     },
     "output_type": "display_data"
    },
    {
     "data": {
      "image/png": "[encoded data removed]",
      "text/plain": [
       "<Figure size 432x288 with 1 Axes>"
      ]
     },
     "metadata": {
      "needs_background": "light"
     },
     "output_type": "display_data"
    },
    {
     "data": {
      "image/png": "[encoded data removed]",
      "text/plain": [
       "<Figure size 432x288 with 1 Axes>"
      ]
     },
     "metadata": {
      "needs_background": "light"
     },
     "output_type": "display_data"
    },
    {
     "data": {
      "image/png": "[encoded data removed]",
      "text/plain": [
       "<Figure size 432x288 with 1 Axes>"
      ]
     },
     "metadata": {
      "needs_background": "light"
     },
     "output_type": "display_data"
    },
    {
     "data": {
      "image/png": "[encoded data removed]",
      "text/plain": [
       "<Figure size 432x288 with 1 Axes>"
      ]
     },
     "metadata": {
      "needs_background": "light"
     },
     "output_type": "display_data"
    },
    {
     "data": {
      "image/png": "[encoded data removed]",
      "text/plain": [
       "<Figure size 432x288 with 1 Axes>"
      ]
     },
     "metadata": {
      "needs_background": "light"
     },
     "output_type": "display_data"
    },
    {
     "data": {
      "image/png": "[encoded data removed]",
      "text/plain": [
       "<Figure size 432x288 with 1 Axes>"
      ]
     },
     "metadata": {
      "needs_background": "light"
     },
     "output_type": "display_data"
    }
   ],
   "source": [
    "images_list = []\n",
    "classes_list = []\n",
    "i = 0\n",
    "\n",
    "for j in range(y1_train.shape[1]):\n",
    "        \n",
    "        if y1_train[0,j] == i and i<=9:\n",
    "            images = x_train[:,j].reshape(28,28)\n",
    "            images_list.append(images)\n",
    "            classes_list.append(class_name[y1_train[0,j]])\n",
    "            i = i+1\n",
    "        else:\n",
    "            j = j+1\n",
    "            \n",
    "for i in range(num_classes):\n",
    "    \n",
    "    plt.imshow(images_list[i])\n",
    "    plt.title(classes_list[i])\n",
    "    plt.show()"
   ]
  },
  {
   "cell_type": "code",
   "execution_count": 8,
   "id": "9cd865bb",
   "metadata": {},
   "outputs": [],
   "source": [
    "#wandb.log({\"Qn 1\":[wandb.Image(img,caption = caption) for img,caption in zip(images_list,classes_list)]})"
   ]
  },
  {
   "cell_type": "markdown",
   "id": "87beaf77",
   "metadata": {},
   "source": [
    "## Neural Network models "
   ]
  },
  {
   "cell_type": "markdown",
   "id": "27706b0d",
   "metadata": {},
   "source": [
    "#### Activation functions and its derivative"
   ]
  },
  {
   "cell_type": "code",
   "execution_count": 9,
   "id": "f6083c5d",
   "metadata": {},
   "outputs": [],
   "source": [
    "# Defining Activation function for neural network\n",
    "\n",
    "def sigmoid_function(x):\n",
    "    exp = np.exp(-x)\n",
    "    return 1/(1+exp)\n",
    "\n",
    "def sigmoid_derivative(x):\n",
    "    return sigmoid_function(x) * (1-sigmoid_function(x))\n",
    "\n",
    "def tanh_function(x):\n",
    "    return np.tanh(x)\n",
    "\n",
    "def tanh_derivative(x):\n",
    "    return (1 - (np.tanh(x)**2))\n",
    "\n",
    "def ReLu(x):\n",
    "    return np.maximum(0,x)\n",
    "\n",
    "def ReLu_derivative(x):\n",
    "    return 1*(x>0) \n",
    "\n",
    "def softmax_function(x):\n",
    "    \n",
    "    exps = np.exp(x - np.max(x , axis=0, keepdims = True))\n",
    "    return exps / np.sum(exps, axis=0 , keepdims = True)\n",
    "\n",
    "def softmax_derivative(x):\n",
    "    return softmax_function(x) * (1-(softmax_function(x)))\n",
    "\n",
    "def cost_function(al,y,Batch_size,loss,lamb,parameters):\n",
    "    al = np.clip(al, 1e-9, 1 - 1e-9)                                                    # Clip to avoid taking the log of 0 or 1\n",
    "    if loss == 'cross_entropy':\n",
    "        if y.shape[0] == 1:                                                             # binary classification \n",
    "            cost = (1/Batch_size) * (-np.dot(y,np.log(al).T) - np.dot(1-y, np.log(1-al).T))\n",
    "        else:                                                                           # multiclass-classification\n",
    "            cost = -(1/Batch_size) * np.sum(y * np.log(al))\n",
    "    elif loss == 'mse':\n",
    "         cost = (1/2) * np.sum((y-al)**2)/Batch_size\n",
    "    acc = 0\n",
    "    for i in range(1, len(parameters)//2 + 1):\n",
    "        acc += np.sum(parameters[\"W\"+str(i)]**2)\n",
    "    cost = cost + (lamb/(2*Batch_size))*acc\n",
    "    cost = np.squeeze(cost)      \n",
    "    return cost\n",
    "\n",
    "def accuracy(inp, labels, parameters):\n",
    "    forward_prop = Forward_Propagation(inp, parameters , activation_function)\n",
    "    a_out = forward_prop['a2']   # containes propabilities with shape(10, 1)\n",
    "    a_out = np.argmax(a_out, 0)  # 0 represents row wise \n",
    "    labels = np.argmax(labels, 0)\n",
    "    acc = np.mean(a_out == labels)*100\n",
    "    \n",
    "    return acc"
   ]
  },
  {
   "cell_type": "markdown",
   "id": "9be63e8d",
   "metadata": {},
   "source": [
    "### INITIALIZING PARAMETERS"
   ]
  },
  {
   "cell_type": "code",
   "execution_count": 10,
   "id": "74640f36",
   "metadata": {},
   "outputs": [],
   "source": [
    "def init_parameters(layers , init_mode):  #initializing parameters\n",
    "    ''' Function to initialize weights, biases and previous updates of Neural_Network\n",
    "    \n",
    "    Parameters\n",
    "    ----------\n",
    "    layers : List\n",
    "        list of numbers of neurons per layer specifying layer dimensions in the format [#inp_features,#num_neurons in layer1,#num_neurons in layer2,......,#out_layer]\n",
    "    \n",
    "    init_mode : String\n",
    "        initialization mode ('Random_normal','Random_uniform','Xavier')\n",
    "    \n",
    "    Returns\n",
    "    -------\n",
    "    Parameters : Dictionary\n",
    "         contains weights and biases\n",
    "    \n",
    "    Previous_Updates : Dictionary   \n",
    "         used for different purposes for different optimizers\n",
    "    \n",
    "    ''' \n",
    "    np.random.seed(42)\n",
    "    Parameters = {}\n",
    "    Previous_Updates = {}\n",
    "    L = len(layers)           #no.of layers\n",
    "    \n",
    "    for l in range(1, L):     #except the last activation layer\n",
    "        if init_mode == 'Random_normal':\n",
    "            Parameters['W'+str(l)] = np.random.randn(layers[l],layers[l-1])\n",
    "            \n",
    "        elif init_mode == 'Random_uniform':\n",
    "            Parameters['W'+str(l)] = np.random.rand(layers[l],layers[l-1])  \n",
    "            \n",
    "        elif init_mode == 'Xavier':\n",
    "            Parameters['W'+str(l)] = np.random.randn(layers[l],layers[l-1])*np.sqrt(2/(layers[l]+layers[l-1]))\n",
    "            \n",
    "            \n",
    "        Parameters['b'+str(l)] = np.zeros((layers[l],1))\n",
    "        \n",
    "        Previous_Updates['W'+str(l)] = np.zeros((layers[l],layers[l-1]))\n",
    "        Previous_Updates['b'+str(l)] = np.zeros((layers[l], 1))\n",
    "        \n",
    "    return Parameters,Previous_Updates\n"
   ]
  },
  {
   "cell_type": "markdown",
   "id": "62722886",
   "metadata": {},
   "source": [
    "### FORWARD PROPAGATION"
   ]
  },
  {
   "cell_type": "code",
   "execution_count": 11,
   "id": "cb0036b6",
   "metadata": {},
   "outputs": [],
   "source": [
    "def Forward_Propagation(x, Parameters, activation_function):\n",
    "    '''Function to forward propagate a minibatch of data once through the NN\n",
    "\n",
    "    Parameters\n",
    "    -----------\n",
    "    x: numpy array\n",
    "        data in (features,batch_size) format\n",
    "\n",
    "    Parameters: Dictionary\n",
    "        Weights(W) and biases(b) of the Neural Network\n",
    "\n",
    "    activation_function: String\n",
    "        activation function to be used except the output layer where it takes accordingly(Sigmoid,softmax) based on the type of classification\n",
    "\n",
    "    Returns\n",
    "    --------\n",
    "    output: numpy array\n",
    "        contains the output probabilities for each class and each data sample after only one pass\n",
    "    h: numpy array\n",
    "        contains all post-activations\n",
    "    a: numpy array\n",
    "        contains all pre-activations\n",
    "\n",
    "    '''\n",
    "   \n",
    "    forward_prop = {}\n",
    "    L = math.floor(len(Parameters)/2)                  \n",
    "    \n",
    "    #first activation layer will be input layer itself\n",
    "    \n",
    "    forward_prop['h0'] = x \n",
    "    \n",
    "    # tanh or ReLu activation functions are used for l-1 layers\n",
    "    for l in range(1, L):\n",
    "        \n",
    "    # ai+1 = Wi+1 * hij + bi+1   \n",
    "        forward_prop['a' + str(l)] = np.dot(Parameters['W' + str(l)],forward_prop['h' + str(l-1)]) + Parameters['b' + str(l)]\n",
    "        \n",
    "        if activation_function == 'tanh':\n",
    "            forward_prop['h' + str(l)] = tanh_function(forward_prop['a' + str(l)])\n",
    "        elif activation_function == 'ReLu':\n",
    "            forward_prop['h' + str(l)] = ReLu(forward_prop['a' + str(l)])\n",
    "        elif activation_function == 'sigmoid':\n",
    "            forward_prop['h' + str(l)] = sigmoid_function(forward_prop['a' + str(l)])\n",
    "\n",
    "    forward_prop['a' + str(L)] = np.matmul(Parameters['W' + str(L)],forward_prop['h' + str(L-1)]) + Parameters['b' + str(L)]\n",
    "    \n",
    "    # sigmoid or softmax functions are used for output layer\n",
    "    if forward_prop['a' + str(L)].shape[0] == 1:  #if it is a binary output then sigmoid function\n",
    "        forward_prop['h' + str(L)] = sigmoid_function(forward_prop['a' + str(L)])\n",
    "    else :\n",
    "        forward_prop['h' + str(L)] = softmax_function(forward_prop['a' + str(L)]) #if it is multiclass classification then it is softmax function\n",
    "    \n",
    "    return forward_prop['h' + str(L)], forward_prop\n"
   ]
  },
  {
   "cell_type": "markdown",
   "id": "1dac3a19",
   "metadata": {},
   "source": [
    "### BACK PROPAGATION"
   ]
  },
  {
   "cell_type": "code",
   "execution_count": 12,
   "id": "e49a728a",
   "metadata": {},
   "outputs": [],
   "source": [
    "def back_prop(al,y,Batch_size,loss,Parameters,forward_prop,activation_function,lamb):\n",
    "    '''Function to calculate gradients for a minibatch of data once through the Neural Network through back_propagation\n",
    "\n",
    "    Parameters\n",
    "    ----------\n",
    "    al: numpy array\n",
    "        output from forward propagation\n",
    "\n",
    "    y: numpy array\n",
    "        actual class labels\n",
    "     \n",
    "    h: numpy array\n",
    "        post-activations\n",
    "\n",
    "    a: numpy array\n",
    "        pre-activations   \n",
    "\n",
    "    Parameters: Dictionary\n",
    "        contains W and b on the NeuralNetwork   \n",
    "\n",
    "    activation_function: String\n",
    "        activation function to be used except the output layer where it takes accordingly(Sigmoid,softmax) based on the type of classification\n",
    "\n",
    "    Batch_size: int\n",
    "        mini-batch-size\n",
    "\n",
    "    loss: String\n",
    "        loss function ('mse','crossentropy')\n",
    "\n",
    "    lamb: Float\n",
    "        L2 regularisation lambda\n",
    "\n",
    "    Returns\n",
    "    -------\n",
    "    gradients: Dictionary\n",
    "        gradients wrt weights(W) and biases(b)\n",
    "\n",
    "    '''\n",
    "    \n",
    "    gradients = {}\n",
    "    L = math.floor(len(Parameters)/2)\n",
    "\n",
    "    if loss == 'cross_entropy':\n",
    "        gradients[\"da\" + str(L)] = al - y\n",
    "    elif loss == 'mse':\n",
    "        gradients[\"da\" + str(L)] = (al - y) * softmax_derivative(forward_prop['a' + str(L)])    \n",
    "    gradients[\"dW\" + str(L)] = (1/Batch_size) * (np.dot(gradients[\"da\" + str(L)],forward_prop['h' + str(L-1)].T) + lamb*Parameters[\"W\"+str(L)])\n",
    "    gradients[\"db\" + str(L)] = (1/Batch_size) * (np.sum(gradients[\"da\" + str(L)], axis = 1, keepdims = True))\n",
    "    \n",
    "    for l in reversed(range(1, L)):\n",
    "        if activation_function == 'tanh':\n",
    "            gradients[\"da\" + str(l)] = np.dot(Parameters['W' + str(l+1)].T,gradients[\"da\" + str(l+1)])*tanh_derivative(forward_prop['h' + str(l)]) \n",
    "        elif activation_function == 'ReLu':\n",
    "            gradients[\"da\" + str(l)] = np.dot(Parameters['W' + str(l+1)].T,gradients[\"da\" + str(l+1)])*ReLu_derivative(forward_prop['h' + str(l)])\n",
    "        elif activation_function == 'sigmoid':\n",
    "            gradients[\"da\" + str(l)] = np.dot(Parameters['W' + str(l+1)].T,gradients[\"da\" + str(l+1)])*sigmoid_derivative(forward_prop['h' + str(l)])\n",
    "            \n",
    "        gradients[\"dW\" + str(l)] = 1/(Batch_size) *(np.dot(gradients[\"da\" + str(l)],forward_prop['h' + str(l-1)].T) + lamb*Parameters[\"W\"+str(l)])\n",
    "        gradients[\"db\" + str(l)] = 1/(Batch_size) *(np.sum(gradients[\"da\" + str(l)], axis = 1, keepdims = True)) \n",
    "\n",
    "    return gradients"
   ]
  },
  {
   "cell_type": "markdown",
   "id": "af036211",
   "metadata": {},
   "source": [
    "### UPDATING PARAMETERS FOR VARIOUS OPTIMIZERS"
   ]
  },
  {
   "cell_type": "code",
   "execution_count": 13,
   "id": "cb350315",
   "metadata": {},
   "outputs": [],
   "source": [
    "def Update_Parameters_sgd(Parameters, gradients, learning_rate):\n",
    "    ''' Update W and b of the Neural Network according to sgd updates\n",
    "\n",
    "    Parameters\n",
    "    ----------\n",
    "    Parameters: Dictionary\n",
    "        contains weights(W) and biases(b) of the NeuralNetwork\n",
    "\n",
    "    gradients: Dictionary\n",
    "        contains gradients wrt weights(W) and biases(b) returned by backpropagation\n",
    "\n",
    "    learning_rate: Float\n",
    "        learning rate\n",
    "\n",
    "    Returns\n",
    "    -------\n",
    "    Parameters: Dictionary\n",
    "        updated NeuralNetwork parameters\n",
    "\n",
    "    '''\n",
    "\n",
    "    L = math.floor(len(Parameters)/2) \n",
    "    \n",
    "    for l in range(L):\n",
    "        Parameters[\"W\" + str(l+1)] = Parameters[\"W\" + str(l+1)] - learning_rate * gradients[\"dW\" + str(l+1)]\n",
    "        Parameters[\"b\" + str(l+1)] = Parameters[\"b\" + str(l+1)] - learning_rate * gradients[\"db\" + str(l+1)]\n",
    "        \n",
    "    return Parameters"
   ]
  },
  {
   "cell_type": "code",
   "execution_count": 14,
   "id": "d93393ef",
   "metadata": {},
   "outputs": [],
   "source": [
    "def Update_Parameters_mgd(Parameters,gradients,learning_rate,Previous_Updates,beta):\n",
    "    ''' Update W and b of the Neural Network according to momentum updates\n",
    "\n",
    "    Parameters\n",
    "    ----------\n",
    "    Parameters: Dictionary\n",
    "        contains weights(W) and biases(b) of the Neural Network\n",
    "\n",
    "    gradients: Dictionary\n",
    "        contains gradients wrt weights(W) and biases(b) returned by backpropagation\n",
    "\n",
    "    learning_rate: Float\n",
    "        learning rate\n",
    "    \n",
    "    beta: Float\n",
    "        decay rate\n",
    "\n",
    "    Previous_Updates: Dictionary\n",
    "        contains previous weights(W) and biases(b) values, accumulated in a weighted fashion along with the gradients eg.\n",
    "        Previous_Updates[Wi] = beta*Previous_Updates[Wi] + (1-beta)*gradients[dWi]\n",
    "\n",
    "    Returns\n",
    "    -------\n",
    "    Parameters: Dictionary\n",
    "        updated NeuralNetwork Parameters\n",
    "\n",
    "    Previous_Updates: Dictionary\n",
    "        updated previous updates \n",
    "\n",
    "    '''\n",
    "    \n",
    "    L = math.floor(len(Parameters)/2)\n",
    "    \n",
    "    for l in range(L):\n",
    "        Previous_Updates[\"W\"+str(l+1)] = beta*Previous_Updates[\"W\"+str(l+1)] + learning_rate*gradients[\"dW\" + str(l+1)]\n",
    "        Previous_Updates[\"b\"+str(l+1)] = beta*Previous_Updates[\"b\"+str(l+1)] + learning_rate*gradients[\"db\" + str(l+1)]\n",
    "        Parameters[\"W\"+str(l+1)] = Parameters[\"W\"+str(l+1)] - Previous_Updates[\"W\"+str(l+1)]\n",
    "        Parameters[\"b\"+str(l+1)] = Parameters[\"b\"+str(l+1)] - Previous_Updates[\"b\"+str(l+1)]\n",
    "        \n",
    "    return Parameters , Previous_Updates    \n",
    "    "
   ]
  },
  {
   "cell_type": "code",
   "execution_count": 15,
   "id": "d966b3bc",
   "metadata": {},
   "outputs": [],
   "source": [
    "def Update_Parameters_nagd(Parameters,gradients,learning_rate,Previous_Updates,beta):\n",
    "    ''' Update W and b of the Neural Network according to nestrov acccelerated gradient descent updates\n",
    "\n",
    "    Parameters\n",
    "    ----------\n",
    "    Parameters: Dictionary\n",
    "        contains weights(W) and biases(b) of the Neural Network\n",
    "\n",
    "    gradients: Dictionary\n",
    "        contains gradients wrt weights(W) and biases(b) returned by backpropagation\n",
    "\n",
    "    learning_rate: Float\n",
    "        learning rate\n",
    "    \n",
    "    beta: Float\n",
    "        decay rate\n",
    "\n",
    "    Previous_Updates: Dictionary\n",
    "        contains previous weights(W) and biases(b) values, accumulated in a weighted fashion along with the gradients eg.\n",
    "        Previous_Updates[Wi] = beta*Previous_Updates[Wi] + (1-beta)*gradients[dWi]\n",
    "\n",
    "    Returns\n",
    "    -------\n",
    "    Parameters: Dictionary\n",
    "        updated NeuralNetwork Parameters\n",
    "\n",
    "    Previous_Updates: Dictionary\n",
    "        updated previous updates \n",
    "\n",
    "    '''\n",
    "    \n",
    "    L = math.floor(len(Parameters)/2)\n",
    "    \n",
    "    for l in range(L):\n",
    "        Previous_Updates[\"W\"+str(l+1)] = beta*Previous_Updates[\"W\"+str(l+1)] + learning_rate*gradients[\"dW\" + str(l+1)]\n",
    "        Previous_Updates[\"b\"+str(l+1)] = beta*Previous_Updates[\"b\"+str(l+1)] + learning_rate*gradients[\"db\" + str(l+1)]\n",
    "        Parameters[\"W\"+str(l+1)] = Parameters[\"W\"+str(l+1)] - Previous_Updates[\"W\"+str(l+1)]\n",
    "        Parameters[\"b\"+str(l+1)] = Parameters[\"b\"+str(l+1)] - Previous_Updates[\"b\"+str(l+1)]\n",
    "        \n",
    "        \n",
    "    return Parameters , Previous_Updates  \n",
    "    "
   ]
  },
  {
   "cell_type": "code",
   "execution_count": 16,
   "id": "023fc877",
   "metadata": {},
   "outputs": [],
   "source": [
    "def Update_Parameters_RMSprop(Parameters,gradients,learning_rate,Previous_Updates,beta,v):\n",
    "    ''' Update W and b of the Neural Network according to RMSprop updates\n",
    "\n",
    "    Parameters\n",
    "    ----------\n",
    "    Parameters: Dictionary\n",
    "        contains weights(W) and biases(b) of the Neural Network\n",
    "\n",
    "    gradients: Dictionary\n",
    "        contains gradients wrt weights(W) and biases(b) returned by backpropagation\n",
    "\n",
    "    learning_rate: Float\n",
    "        learning rate\n",
    "    \n",
    "    beta: Float\n",
    "        decay rate\n",
    "\n",
    "    v: Dictionary\n",
    "        contains previous weights(W) and biases(b) values, accumulated in a weighted fashion along with the gradients square eg.\n",
    "        v[Wi] = beta*v[Wi] + (1-beta)*(gradients[dWi]^2)\n",
    "\n",
    "    Returns\n",
    "    -------\n",
    "    Parameters: Dictionary\n",
    "        updated Neural Network parameters\n",
    "\n",
    "    v: Dictionary\n",
    "        updated \"velocities\"\n",
    "\n",
    "    '''\n",
    "    L = math.floor(len(Parameters)/2)\n",
    "    delta = 0.000001\n",
    "    for l in range(L):\n",
    "        vdw = beta*v[\"W\" + str(l+1)] + (1-beta)*np.multiply(gradients[\"dW\" + str(l+1)],gradients[\"dW\" + str(l+1)])\n",
    "        vdb = beta*v[\"b\" + str(l+1)] + (1-beta)*np.multiply(gradients[\"db\" + str(l+1)],gradients[\"db\" + str(l+1)])\n",
    "\n",
    "        Parameters[\"W\" + str(l+1)] = Parameters[\"W\" + str(l+1)] - learning_rate * gradients[\"dW\" + str(l+1)] / (np.sqrt(vdw)+delta)\n",
    "        Parameters[\"b\" + str(l+1)] = Parameters[\"b\" + str(l+1)] - learning_rate * gradients[\"db\" + str(l+1)] / (np.sqrt(vdb)+delta)\n",
    "\n",
    "        v[\"W\" + str(l+1)] = vdw\n",
    "        v[\"b\" + str(l+1)] = vdb\n",
    "\n",
    "    return Parameters,v\n",
    "        "
   ]
  },
  {
   "cell_type": "code",
   "execution_count": 17,
   "id": "77a7884d",
   "metadata": {},
   "outputs": [],
   "source": [
    "def Update_Parameters_adam(Parameters,gradients,learning_rate,v,m,t):\n",
    "    ''' Update W and b of the Neural Network according to adam updates\n",
    "\n",
    "    Parameters\n",
    "    ----------\n",
    "    Parameters: Dictionary\n",
    "        contains weights(W) and biases(b) of the Neural Network\n",
    "\n",
    "    gradients: Dictionary\n",
    "        contains gradients wrt weights(W) and biases(b) returned by backpropagation\n",
    "\n",
    "    learning_rate: Float\n",
    "        learning rate\n",
    "\n",
    "    v: Dictionary\n",
    "        contains previous weights(W) and biases(b) values, accumulated in a weighted fashion along with the gradients eg.\n",
    "        v[Wi] = beta1*v[Wi] + (1-beta1)*(gradient[dWi])\n",
    "\n",
    "    m: Dictionary\n",
    "        contains previous weights(W) and biases(b) values, accumulated in a weighted fashion along with the gradients^2 eg.\n",
    "        v[Wi] = beta2*v[Wi] + (1-beta2)*(gradient[dWi]^2)\n",
    "\n",
    "    t: int\n",
    "        timestep for Adam\n",
    "\n",
    "    Returns\n",
    "    -------\n",
    "    Parameters: Dictionary\n",
    "        updated Neural Network parameters\n",
    "\n",
    "    v: Dictionary\n",
    "        updated previous updates\n",
    "\n",
    "    m: Dictionary\n",
    "        updated \"velocities\"\n",
    "\n",
    "    t: int\n",
    "        updated timestep\n",
    "\n",
    "    '''\n",
    "    L = math.floor(len(Parameters)/2)\n",
    "    epsilon = 0.00000001\n",
    "    beta1 = 0.9\n",
    "    beta2 = 0.999\n",
    "    for l in range(L):\n",
    "        mdw = beta1*m[\"W\" + str(l+1)] + (1-beta1)*gradients[\"dW\" + str(l+1)]\n",
    "        vdw = beta2*v[\"W\" + str(l+1)] + (1-beta2)*np.square(gradients[\"dW\" + str(l+1)])\n",
    "        \n",
    "        vw_hat = vdw/(1-beta2**t)\n",
    "        mw_hat = mdw/(1-beta1**t)\n",
    "        \n",
    "\n",
    "        Parameters[\"W\" + str(l+1)] = Parameters[\"W\" + str(l+1)] - (learning_rate * mw_hat)/np.sqrt(vw_hat+epsilon)\n",
    "        \n",
    "        mdb = beta1*m[\"b\"+str(l+1)] + (1-beta1)*gradients[\"db\"+str(l+1)]\n",
    "        vdb = beta2*v[\"b\"+str(l+1)] + (1-beta2)*np.square(gradients[\"db\"+str(l+1)])\n",
    "        mb_hat = mdb/(1-beta1**t)\n",
    "        vb_hat = vdb/(1-beta2**t)\n",
    "        \n",
    "        Parameters[\"b\" + str(l+1)] = Parameters[\"b\" + str(l+1)] - (learning_rate * mb_hat)/np.sqrt(vb_hat+epsilon)\n",
    "        \n",
    "        v[\"dW\" + str(l+1)] = vdw\n",
    "        m[\"dW\" + str(l+1)] = mdw\n",
    "        v[\"db\" + str(l+1)] = vdb\n",
    "        m[\"db\" + str(l+1)] = mdb\n",
    "\n",
    "    return Parameters,v,m,t\n",
    "        \n",
    "    \n",
    "    "
   ]
  },
  {
   "cell_type": "code",
   "execution_count": 18,
   "id": "dc8723a7",
   "metadata": {},
   "outputs": [],
   "source": [
    "def Update_Parameters_nadam(Parameters,gradients,learning_rate,v,m,t):\n",
    "    \n",
    "    ''' Update W and b of the Neural Network according to nadam updates\n",
    "\n",
    "    Parameters\n",
    "    ----------\n",
    "    Parameters: Dictionary\n",
    "        contains weights(W) and biases(b) of the Neural Network\n",
    "\n",
    "    gradients: Dictionary\n",
    "        contains gradients wrt weights(W) and biases(b) returned by backpropagation\n",
    "\n",
    "    learning_rate: Float\n",
    "        learning rate\n",
    "\n",
    "    v: Dictionary\n",
    "        contains previous weights(W) and biases(b) values, accumulated in a weighted fashion along with the gradients eg.\n",
    "        v[Wi] = beta1*v[Wi] + (1-beta1)*(gradient[dWi])\n",
    "\n",
    "    m: Dictionary\n",
    "        contains previous weights(W) and biases(b) values, accumulated in a weighted fashion along with the gradients^2 eg.\n",
    "        v[Wi] = beta2*v[Wi] + (1-beta2)*(gradient[dWi]^2)\n",
    "\n",
    "    t: int\n",
    "        timestep for nadam\n",
    "\n",
    "    Returns\n",
    "    -------\n",
    "    Parameters: Dictionary\n",
    "        updated Neural Network parameters\n",
    "\n",
    "    v: Dictionary\n",
    "        updated previous updates\n",
    "\n",
    "    m: Dictionary\n",
    "        updated \"velocities\"\n",
    "\n",
    "    t: int\n",
    "        updated timestep\n",
    "\n",
    "    '''\n",
    "    \n",
    "    L = math.floor(len(Parameters)/2)\n",
    "    epsilon = 0.00000001\n",
    "    beta1 = 0.9\n",
    "    beta2 = 0.999\n",
    "    for l in range(L):\n",
    "        mdw = beta1*m[\"W\" + str(l+1)] + (1-beta1)*gradients[\"dW\" + str(l+1)]\n",
    "        vdw = beta2*v[\"W\" + str(l+1)] + (1-beta2)*np.square(gradients[\"dW\" + str(l+1)])\n",
    "        \n",
    "        vw_hat = vdw/(1-beta2**t)\n",
    "        mw_hat = mdw/(1-beta1**t)\n",
    "        \n",
    "\n",
    "        Parameters[\"W\" + str(l+1)] = Parameters[\"W\" + str(l+1)] - (learning_rate * mw_hat)/np.sqrt(vw_hat+epsilon)\n",
    "        \n",
    "        mdb = beta1*m[\"b\"+str(l+1)] + (1-beta1)*gradients[\"db\"+str(l+1)]\n",
    "        vdb = beta2*v[\"b\"+str(l+1)] + (1-beta2)*np.square(gradients[\"db\"+str(l+1)])\n",
    "        mb_hat = mdb/(1-beta1**t)\n",
    "        vb_hat = vdb/(1-beta2**t)\n",
    "        \n",
    "        Parameters[\"b\" + str(l+1)] = Parameters[\"b\" + str(l+1)] - (learning_rate * mb_hat)/np.sqrt(vb_hat+epsilon)\n",
    "        \n",
    "        v[\"dW\" + str(l+1)] = vdw\n",
    "        m[\"dW\" + str(l+1)] = mdw\n",
    "        v[\"db\" + str(l+1)] = vdb\n",
    "        m[\"db\" + str(l+1)] = mdb\n",
    "\n",
    "    return Parameters,v,m,t\n",
    "        \n",
    "    \n",
    "    "
   ]
  },
  {
   "cell_type": "code",
   "execution_count": 19,
   "id": "a412687c",
   "metadata": {},
   "outputs": [],
   "source": [
    "def predict(x, y, Parameters, activation_function):\n",
    "\n",
    "    m = x.shape[1]\n",
    "    y_pred, caches = Forward_Propagation(x, Parameters, activation_function)\n",
    "    \n",
    "    if y.shape[0] == 1:\n",
    "        y_pred = np.array(y_pred > 0.5, dtype = 'float')\n",
    "    else:\n",
    "        y = np.argmax(y, 0)\n",
    "        y_pred = np.argmax(y_pred, 0)\n",
    "        accuracy = np.round(np.sum(y == y_pred)/m, 2)\n",
    "        \n",
    "       \n",
    "    return accuracy \n"
   ]
  },
  {
   "cell_type": "code",
   "execution_count": 20,
   "id": "f4a85323",
   "metadata": {},
   "outputs": [],
   "source": [
    "def plot_graph_acc(train,validation,iterations):\n",
    "\n",
    "    plt.plot(iterations,train,c='red',label='Training Accuracy')\n",
    "    plt.plot(iterations,validation,c='lime',label='Validation Accuracy')\n",
    "    plt.title(\"Training and validation Accuracy vs number of epochs\",size=14)\n",
    "    plt.xlabel(\"Number of epochs\",size =14)\n",
    "    plt.ylabel(\"Accuracy\",size=14)\n",
    "    plt.grid()\n",
    "    plt.legend()\n",
    "    plt.show()"
   ]
  },
  {
   "cell_type": "code",
   "execution_count": 21,
   "id": "30494ed2",
   "metadata": {},
   "outputs": [],
   "source": [
    "def plot_graph_loss(train,validation,iterations):\n",
    "\n",
    "    plt.plot(iterations,train,c='red',label='Training Loss')\n",
    "    plt.plot(iterations,validation,c='lime',label='Validation Loss')\n",
    "    plt.title(\"Training and validation Loss vs number of epochs\",size=14)\n",
    "    plt.xlabel(\"Number of epochs\",size =14)\n",
    "    plt.ylabel(\"Loss\",size=14)\n",
    "    plt.grid()\n",
    "    plt.legend()\n",
    "    plt.show()"
   ]
  },
  {
   "cell_type": "markdown",
   "id": "78be5ea0",
   "metadata": {},
   "source": [
    "### STOCHASTIC GRADIENT DESCENT"
   ]
  },
  {
   "cell_type": "code",
   "execution_count": 22,
   "id": "8de1e8d8",
   "metadata": {},
   "outputs": [],
   "source": [
    "def stochastic_gradient_descent(x_train,y_train,x_val,y_val,Batch_size,layers,learning_rate,lamb,loss,activation_function,iterations):\n",
    "    np.random.seed(1)\n",
    "    cost_train_sgd = []\n",
    "    cost_val_sgd = []\n",
    "    iteration_sgd = []\n",
    "    train_sgd = []\n",
    "    validation_sgd = []\n",
    "    \n",
    "    Parameters, Previous_Updates = init_parameters(layers, init_mode='Random_normal')\n",
    "\n",
    "    for i in range(iterations):\n",
    "        iteration_sgd.append(i)\n",
    "         \n",
    "        for j in range(0, x_train.shape[1], Batch_size):\n",
    "            Batch_count = Batch_size\n",
    "            \n",
    "            if j+Batch_size > x_train.shape[1]:\n",
    "                Batch_count = x_train.shape[1] - j \n",
    "            \n",
    "            al, forward_prop = Forward_Propagation(x_train[:, j:j+Batch_count].reshape(x_train.shape[0], Batch_count), Parameters, activation_function)\n",
    "            gradients = back_prop(al, y_train[:, j:j+Batch_count].reshape(y_train.shape[0], Batch_count), Batch_count,loss,Parameters, forward_prop, activation_function, lamb)\n",
    "            Parameters = Update_Parameters_sgd(Parameters, gradients, learning_rate)\n",
    "        \n",
    "        al_train, forward_prop_train = Forward_Propagation(x_train, Parameters, activation_function)\n",
    "        cost_train = cost_function(al_train, y_train, y_train.shape[1], loss, lamb, Parameters)\n",
    "        cost_train_sgd.append(cost_train)\n",
    "        accuracy_train_sgd = predict(x_train, y_train, Parameters, activation_function)\n",
    "        train_sgd.append(accuracy_train_sgd)\n",
    "        \n",
    "        al_val, forward_prop_val = Forward_Propagation(x_val, Parameters, activation_function)\n",
    "        cost_val = cost_function(al_val, y_val, y_val.shape[1], loss, lamb, Parameters)\n",
    "        cost_val_sgd.append(cost_val)\n",
    "        accuracy_val_sgd = predict(x_val, y_val, Parameters, activation_function)\n",
    "        validation_sgd.append(accuracy_val_sgd)\n",
    "        \n",
    "        wandb.log({\"training_accuracy\":accuracy_train_sgd,\"Validation_accuracy\":accuracy_val_sgd,\"training_loss\":cost_train,\"Validation_loss\":cost_val})\n",
    "        \n",
    "        if i % (iterations/10) == 0:\n",
    "            \n",
    "            print(\"\\niter:{} \\t cost_train: {:.2f} \\t cost_val: {:.2f} \\t train_acc: {:.2f} \\t val_acc: {:.2f}\".format(i, cost_train,cost_val,accuracy_train_sgd,accuracy_val_sgd))\n",
    "\n",
    "        \n",
    "    plot_graph_acc(train_sgd, validation_sgd, iteration_sgd)\n",
    "    plot_graph_loss(cost_train_sgd, cost_val_sgd, iteration_sgd)\n",
    "            \n",
    "    return Parameters\n"
   ]
  },
  {
   "cell_type": "markdown",
   "id": "16d9ea0f",
   "metadata": {},
   "source": [
    "### MOMENTUM GRADIENT DESCENT "
   ]
  },
  {
   "cell_type": "code",
   "execution_count": 25,
   "id": "5fec8428",
   "metadata": {},
   "outputs": [],
   "source": [
    "def momentum_gradient_descent(x_train,y_train,x_val,y_val,Batch_size,layers,learning_rate,beta,lamb,loss,activation_function,iterations):\n",
    "\n",
    "    np.random.seed(1)\n",
    "    cost_train_mgd = []\n",
    "    cost_val_mgd = []\n",
    "    iteration_mgd = []\n",
    "    train_mgd = []\n",
    "    validation_mgd = []\n",
    "    Parameters, Previous_Updates = init_parameters(layers , init_mode = 'Random_normal')\n",
    "    \n",
    "    for i in range(0, iterations):\n",
    "        iteration_mgd.append(i)\n",
    "        \n",
    "        for j in range(0,x_train.shape[1],Batch_size):\n",
    "            \n",
    "            Batch_count = Batch_size\n",
    "                \n",
    "            if j+Batch_size > x_train.shape[1]:\n",
    "                      Batch_count = x_train.shape[1] - j \n",
    "            \n",
    "            al, forward_prop = Forward_Propagation(x_train[:,j:j+Batch_count].reshape(x_train.shape[0],Batch_count), Parameters, activation_function)\n",
    "            gradients = back_prop(al, y_train[:,j:j+Batch_count].reshape(y_train.shape[0],Batch_count),Batch_count,loss,Parameters, forward_prop, activation_function,lamb)\n",
    "            Parameters,Previous_Updates = Update_Parameters_mgd(Parameters, gradients, learning_rate,Previous_Updates,beta)\n",
    "        \n",
    "        al_train, forward_prop_train = Forward_Propagation(x_train, Parameters, activation_function)\n",
    "        cost_train = cost_function(al_train,y_train,y_train.shape[1],loss,lamb,Parameters)\n",
    "        cost_train_mgd.append(cost_train)\n",
    "        \n",
    "        al_val, forward_prop_val = Forward_Propagation(x_val, Parameters, activation_function)\n",
    "        cost_val = cost_function(al_val, y_val, y_val.shape[1], loss, lamb, Parameters)\n",
    "        cost_val_mgd.append(cost_val)\n",
    "        \n",
    "        accuracy_train_mgd = predict(x_train, y_train, Parameters, activation_function)\n",
    "        accuracy_val_mgd = predict(x_test, y_test, Parameters, activation_function)\n",
    "        train_mgd.append(accuracy_train_mgd)\n",
    "        validation_mgd.append(accuracy_val_mgd)\n",
    "        \n",
    "        wandb.log({\"training_accuracy\":accuracy_train_mgd,\"Validation_accuracy\":accuracy_val_mgd,\"training_loss\":cost_train,\"Validation_loss\":cost_val})\n",
    "        \n",
    "        if i % (iterations/10) == 0:\n",
    "            \n",
    "            print(\"\\niter:{} \\t cost_train: {:.2f} \\t cost_val: {:.2f} \\t train_acc: {:.2f} \\t val_acc: {:.2f}\".format(i, cost_train,cost_val,accuracy_train_mgd,accuracy_val_mgd))\n",
    "\n",
    "    plot_graph_acc(train_mgd,validation_mgd,iteration_mgd)\n",
    "    plot_graph_loss(cost_train_mgd,cost_val_mgd,iteration_mgd)\n",
    "        \n",
    "    return Parameters"
   ]
  },
  {
   "cell_type": "markdown",
   "id": "ed5e390d",
   "metadata": {},
   "source": [
    "### NESTEROV ACCELERATED GRADIENT DESCENT"
   ]
  },
  {
   "cell_type": "code",
   "execution_count": 26,
   "id": "550a46e4",
   "metadata": {},
   "outputs": [],
   "source": [
    "def nesterov_accelerated_gradient_descent(x_train,y_train,x_val,y_val,Batch_size,layers,learning_rate,beta,lamb,loss,activation_function,iterations):\n",
    "\n",
    "    np.random.seed(1)\n",
    "    cost_train_nagd = []\n",
    "    cost_val_nagd = []\n",
    "    iteration_nagd = []\n",
    "    train_nagd = []\n",
    "    validation_nagd = []\n",
    "    Parameters, Previous_Updates = init_parameters(layers , init_mode = 'Random_normal')\n",
    "    Parameters_look_ahead = Parameters.copy() \n",
    "    L = math.floor(len(Parameters)/2)\n",
    "    \n",
    "    for i in range(0, iterations):\n",
    "        iteration_nagd.append(i)\n",
    "        \n",
    "        for j in range(0,x_train.shape[1],Batch_size):\n",
    "            Batch_count = Batch_size\n",
    "            if j+Batch_size > x_train.shape[1]:\n",
    "                    Batch_count = x_train.shape[1] - j \n",
    "            \n",
    "            for l in range(L):\n",
    "                Parameters_look_ahead[\"W\"+str(l+1)] = Parameters[\"W\"+str(l+1)] - beta*Previous_Updates[\"W\"+str(l+1)]\n",
    "                Parameters_look_ahead[\"b\"+str(l+1)] = Parameters[\"b\"+str(l+1)] - beta*Previous_Updates[\"b\"+str(l+1)]\n",
    "            \n",
    "            al,forward_prop = Forward_Propagation(x_train[:,j:j+Batch_count].reshape(x_train.shape[0],Batch_count), Parameters, activation_function)\n",
    "            gradients = back_prop(al, y_train[:,j:j+Batch_count].reshape(y_train.shape[0],Batch_count),Batch_count,loss,Parameters_look_ahead, forward_prop, activation_function,lamb)\n",
    "            Parameters,Previous_Updates = Update_Parameters_nagd(Parameters_look_ahead, gradients, learning_rate,Previous_Updates,beta)\n",
    "        \n",
    "        al_train, forward_prop_train = Forward_Propagation(x_train, Parameters, activation_function)\n",
    "        cost_train = cost_function(al_train,y_train,y_train.shape[1],loss,lamb,Parameters)\n",
    "        cost_train_nagd.append(cost_train)\n",
    "        al_val, forward_prop_val = Forward_Propagation(x_val, Parameters, activation_function)\n",
    "        cost_val = cost_function(al_val, y_val, y_val.shape[1], loss, lamb, Parameters)\n",
    "        cost_val_nagd.append(cost_val)\n",
    "        \n",
    "        accuracy_train_nagd = predict(x_train, y_train, Parameters, activation_function)\n",
    "        accuracy_val_nagd = predict(x_test, y_test, Parameters, activation_function)\n",
    "        train_nagd.append(accuracy_train_nagd)\n",
    "        validation_nagd.append(accuracy_val_nagd)\n",
    "        \n",
    "        wandb.log({\"training_accuracy\":accuracy_train_nagd,\"Validation_accuracy\":accuracy_val_nagd,\"training_loss\":cost_train,\"Validation_loss\":cost_val})\n",
    "        \n",
    "        if i % (iterations/10) == 0:\n",
    "\n",
    "            print(\"\\niter:{} \\t cost_train: {:.2f} \\t cost_val: {:.2f} \\t train_acc: {:.2f} \\t val_acc: {:.2f}\".format(i, cost_train,cost_val,accuracy_train_nagd,accuracy_val_nagd))\n",
    "\n",
    "        \n",
    "    plot_graph_acc(train_nagd,validation_nagd,iteration_nagd)\n",
    "    plot_graph_loss(cost_train_nagd,cost_val_nagd,iteration_nagd)\n",
    "        \n",
    "    return Parameters"
   ]
  },
  {
   "cell_type": "markdown",
   "id": "03cff5f9",
   "metadata": {},
   "source": [
    "### RMS"
   ]
  },
  {
   "cell_type": "code",
   "execution_count": 27,
   "id": "a50923b4",
   "metadata": {},
   "outputs": [],
   "source": [
    "def RMS_prop(x_train,y_train,x_val,y_val,Batch_size,layers,learning_rate,beta,lamb,loss,activation_function,iterations):\n",
    "    cost_train_RMS = []\n",
    "    cost_val_RMS = []\n",
    "    iteration_RMS = []\n",
    "    train_RMS = []\n",
    "    validation_RMS = []\n",
    "\n",
    "    \n",
    "    Parameters, Previous_Updates = init_parameters(layers , init_mode = 'Random_normal')\n",
    "    Parameters_look_ahead = Parameters.copy()\n",
    "    v = Previous_Updates.copy()\n",
    "    L = math.floor(len(Parameters)/2)\n",
    "    \n",
    "    for i in range(0, iterations):\n",
    "        iteration_RMS.append(i)\n",
    "        for j in range(0,x_train.shape[1],Batch_size):\n",
    "            Batch_count = Batch_size\n",
    "            if j+Batch_size > x_train.shape[1]:\n",
    "                Batch_count = x_train.shape[1] - j \n",
    "            al, forward_prop = Forward_Propagation(x_train[:,j:j+Batch_count].reshape(x_train.shape[0],Batch_count), Parameters, activation_function)\n",
    "            gradients = back_prop(al, y_train[:,j:j+Batch_count].reshape(y_train.shape[0],Batch_count),Batch_count,loss,Parameters, forward_prop, activation_function,lamb)\n",
    "            Parameters,Previous_Updates = Update_Parameters_RMSprop(Parameters, gradients, learning_rate,Previous_Updates,beta,v)\n",
    "        \n",
    "        al_train, forward_prop_train = Forward_Propagation(x_train, Parameters, activation_function)\n",
    "        cost_train = cost_function(al_train,y_train,y_train.shape[1],loss,lamb,Parameters)\n",
    "        cost_train_RMS.append(cost_train)\n",
    "        al_val, forward_prop_val = Forward_Propagation(x_val, Parameters, activation_function)\n",
    "        cost_val = cost_function(al_val, y_val, y_val.shape[1], loss, lamb, Parameters)\n",
    "        cost_val_RMS.append(cost_val)\n",
    "        \n",
    "        accuracy_train_RMS = predict(x_train, y_train, Parameters, activation_function)\n",
    "        accuracy_val_RMS = predict(x_test, y_test, Parameters, activation_function)\n",
    "        train_RMS.append(accuracy_train_RMS)\n",
    "        validation_RMS.append(accuracy_val_RMS)\n",
    "        \n",
    "        wandb.log({\"training_accuracy\":accuracy_train_RMS,\"Validation_accuracy\":accuracy_val_RMS,\"training_loss\":cost_train,\"Validation_loss\":cost_val})\n",
    "        \n",
    "        if i % (iterations/10) == 0:\n",
    "            \n",
    "            print(\"\\niter:{} \\t cost_train: {:.2f} \\t cost_val: {:.2f} \\t train_acc: {:.2f} \\t val_acc: {:.2f}\".format(i, cost_train,cost_val,accuracy_train_RMS,accuracy_val_RMS))\n",
    "\n",
    "        \n",
    "    plot_graph_acc(train_RMS,validation_RMS,iteration_RMS)\n",
    "    plot_graph_loss(cost_train_RMS,cost_val_RMS,iteration_RMS)\n",
    "        \n",
    "    return Parameters\n",
    "        "
   ]
  },
  {
   "cell_type": "markdown",
   "id": "d8313c6f",
   "metadata": {},
   "source": [
    "### ADAM "
   ]
  },
  {
   "cell_type": "code",
   "execution_count": 28,
   "id": "b48c243c",
   "metadata": {},
   "outputs": [],
   "source": [
    "def adam(x_train,y_train,x_val,y_val,Batch_size,layers,learning_rate,lamb,loss,activation_function,iterations):\n",
    "    cost_train_ad = []\n",
    "    cost_val_ad = []\n",
    "    iteration_ad = []\n",
    "    train_ad = []\n",
    "    validation_ad = []\n",
    "    Parameters, Previous_Updates = init_parameters(layers , init_mode = 'Random_normal')\n",
    "    Parameters_look_ahead = Parameters.copy()\n",
    "    t = 1\n",
    "    v = Previous_Updates.copy()\n",
    "    m = Previous_Updates.copy()\n",
    "    L = math.floor(len(Parameters)/2)\n",
    "    \n",
    "    for i in range(0, iterations):\n",
    "        iteration_ad.append(i)\n",
    "        for j in range(0,x_train.shape[1],Batch_size):\n",
    "            Batch_count = Batch_size\n",
    "            if j+Batch_size > x_train.shape[1]:\n",
    "                Batch_count = x_train.shape[1] - j \n",
    "            al, forward_prop = Forward_Propagation(x_train[:,j:j+Batch_count].reshape(x_train.shape[0],Batch_count),Parameters,activation_function)\n",
    "            gradients = back_prop(al, y_train[:,j:j+Batch_count].reshape(y_train.shape[0],Batch_count),Batch_count,loss,Parameters, forward_prop, activation_function,lamb)\n",
    "            Parameters,v,m,t = Update_Parameters_adam(Parameters,gradients,learning_rate,v,m,t)\n",
    "        \n",
    "        al_train, forward_prop_train = Forward_Propagation(x_train,Parameters,activation_function)\n",
    "        cost_train = cost_function(al_train,y_train,y_train.shape[1],loss,lamb,Parameters)\n",
    "        cost_train_ad.append(cost_train)\n",
    "        al_val, forward_prop_val = Forward_Propagation(x_val, Parameters, activation_function)\n",
    "        cost_val = cost_function(al_val,y_val,y_val.shape[1],loss,lamb,Parameters)\n",
    "        cost_val_ad.append(cost_val)\n",
    "        accuracy_train_ad = predict(x_train, y_train, Parameters, activation_function)\n",
    "        accuracy_val_ad = predict(x_test, y_test, Parameters, activation_function)\n",
    "        train_ad.append(accuracy_train_ad)\n",
    "        validation_ad.append(accuracy_val_ad)\n",
    "        \n",
    "        wandb.log({\"training_accuracy\":accuracy_train_ad,\"Validation_accuracy\":accuracy_val_ad,\"training_loss\":cost_train,\"Validation_loss\":cost_val})\n",
    "        \n",
    "        if i%(iterations/10) == 0:\n",
    "                print(\"\\niter:{} \\t cost_train: {:.2f} \\t cost_val: {:.2f} \\t train_acc: {:.2f} \\t val_acc: {:.2f}\".format(i, cost_train,cost_val,accuracy_train_ad,accuracy_val_ad))\n",
    "\n",
    "    plot_graph_acc(train_ad,validation_ad,iteration_ad)\n",
    "    plot_graph_loss(cost_train_ad,cost_val_ad,iteration_ad)\n",
    "        \n",
    "    return Parameters\n",
    "        "
   ]
  },
  {
   "cell_type": "markdown",
   "id": "24952b21",
   "metadata": {},
   "source": [
    "### NADAM"
   ]
  },
  {
   "cell_type": "code",
   "execution_count": 29,
   "id": "3ad8d2ea",
   "metadata": {},
   "outputs": [],
   "source": [
    "def nadam(x_train,y_train,x_val,y_val,Batch_size,layers,learning_rate,beta,lamb,loss,activation_function,iterations):\n",
    "\n",
    "    np.random.seed(1)\n",
    "    cost_train_nadam = []\n",
    "    cost_val_nadam = []\n",
    "    iteration_nadam = []\n",
    "    train_nadam = []\n",
    "    validation_nadam = []\n",
    "    Parameters, Previous_Updates = init_parameters(layers , init_mode = 'Random_normal')\n",
    "    Parameters_look_ahead = Parameters.copy()\n",
    "    t = 1\n",
    "    v = Previous_Updates.copy()\n",
    "    m = Previous_Updates.copy()\n",
    "    L = math.floor(len(Parameters)/2)\n",
    "    \n",
    "    for i in range(0, iterations):\n",
    "        iteration_nadam.append(i)\n",
    "        \n",
    "        for l in range(L):\n",
    "                Parameters_look_ahead[\"W\"+str(l+1)] = Parameters[\"W\"+str(l+1)]-beta*Previous_Updates[\"W\"+str(l+1)]\n",
    "                Parameters_look_ahead[\"b\"+str(l+1)] = Parameters[\"b\"+str(l+1)]-beta*Previous_Updates[\"b\"+str(l+1)]\n",
    "        \n",
    "        for j in range(0,x_train.shape[1],Batch_size):\n",
    "            Batch_count = Batch_size\n",
    "            \n",
    "            for l in range(L):\n",
    "                Parameters_look_ahead[\"W\"+str(l+1)] = Parameters[\"W\"+str(l+1)]-beta*Previous_Updates[\"W\"+str(l+1)]\n",
    "                Parameters_look_ahead[\"b\"+str(l+1)] = Parameters[\"b\"+str(l+1)]-beta*Previous_Updates[\"b\"+str(l+1)]\n",
    "            \n",
    "            if j+Batch_size > x_train.shape[1]:\n",
    "                Batch_count = x_train.shape[1] - j \n",
    "            \n",
    "            al, forward_prop = Forward_Propagation(x_train[:,j:j+Batch_count].reshape(x_train.shape[0],Batch_count), Parameters, activation_function)\n",
    "            gradients = back_prop(al, y_train[:,j:j+Batch_count].reshape(y_train.shape[0],Batch_count),Batch_count,loss,Parameters, forward_prop, activation_function,lamb)\n",
    "            Parameters,v,m,t = Update_Parameters_nadam(Parameters,gradients,learning_rate,v,m,t)\n",
    "        \n",
    "        al_train, forward_prop_train = Forward_Propagation(x_train, Parameters, activation_function)\n",
    "        cost_train = cost_function(al_train,y_train,y_train.shape[1],loss,lamb,Parameters)\n",
    "        cost_train_nadam.append(cost_train)\n",
    "        al_val, forward_prop_val = Forward_Propagation(x_val, Parameters, activation_function)\n",
    "        cost_val = cost_function(al_val, y_val, y_val.shape[1], loss, lamb, Parameters)\n",
    "        cost_val_nadam.append(cost_val)\n",
    "        accuracy_train_nadam = predict(x_train, y_train, Parameters, activation_function)\n",
    "        accuracy_val_nadam = predict(x_test, y_test, Parameters, activation_function)\n",
    "        train_nadam.append(accuracy_train_nadam)\n",
    "        validation_nadam.append(accuracy_val_nadam)\n",
    "        \n",
    "        wandb.log({\"training_accuracy\":accuracy_train_nadam,\"Validation_accuracy\":accuracy_val_nadam,\"training_loss\":cost_train,\"Validation_loss\":cost_val})\n",
    "        \n",
    "        \n",
    "        if i%(iterations/10) == 0:\n",
    "            print(\"\\niter:{} \\t cost_train: {:.2f} \\t cost_val: {:.2f} \\t train_acc: {:.2f} \\t val_acc: {:.2f}\".format(i, cost_train,cost_val,accuracy_train_nadam,accuracy_val_nadam))\n",
    "\n",
    "                \n",
    "    plot_graph_acc(train_nadam,validation_nadam,iteration_nadam)\n",
    "    plot_graph_loss(cost_train_nadam,cost_val_nadam,iteration_nadam)\n",
    "        \n",
    "    return Parameters"
   ]
  },
  {
   "cell_type": "markdown",
   "id": "b5c0d190",
   "metadata": {},
   "source": [
    "#### Hyperparameter tuning using sweeps"
   ]
  },
  {
   "cell_type": "code",
   "execution_count": 30,
   "id": "7fa94b2d",
   "metadata": {
    "scrolled": true
   },
   "outputs": [],
   "source": [
    "def Neural_Network():\n",
    "    \n",
    "    config_defaults = {\n",
    "        'iterations':10,\n",
    "        'Batch_size':64,\n",
    "        'learning_rate':0.001,\n",
    "        'activation_function':'ReLu',\n",
    "        'loss':'cross_entropy',\n",
    "        'optimizer':'RMS',\n",
    "        'init_mode':'Xavier',\n",
    "        'lamb': 0,\n",
    "        'num_neurons':64,\n",
    "        'num_hidden': 3 \n",
    "        }\n",
    "    \n",
    "    wandb.init(config=config_defaults)\n",
    "    config = wandb.config\n",
    "    \n",
    "    num_neurons = config.num_neurons\n",
    "    init_mode = config.init_mode\n",
    "    num_hidden = config.num_hidden\n",
    "    iterations = config.iterations\n",
    "    Batch_size = config.Batch_size\n",
    "    learning_rate = config.learning_rate\n",
    "    activation_function = config.activation_function\n",
    "    loss = config.loss\n",
    "    lamb = config.lamb\n",
    "    optimizer = config.optimizer\n",
    "    \n",
    "    run_name = \"learningrate:{} \\t activationfunction:{} \\t init_mode:{} \\t batchsize:{} \\t optimizer:{} \\t L2:{} \\t epochs:{} \\t num_hidden:{} \\t num_neurons:{}\".format(learning_rate,activation_function,init_mode,Batch_size,optimizer,lamb,iterations,num_hidden,num_neurons) \n",
    "    print(run_name)\n",
    "    layers = [x_train.shape[0]] + [num_neurons]*num_hidden + [y_train.shape[0]]\n",
    "    beta =0.9\n",
    "    \n",
    "    \n",
    "    if optimizer == 'stochastic':\n",
    "        Parameters = stochastic_gradient_descent(x_train,y_train,x_test,y_test,Batch_size,layers,learning_rate,lamb,loss,activation_function,iterations)\n",
    "\n",
    "    elif optimizer == 'momentum':\n",
    "        Parameters = momentum_gradient_descent(x_train,y_train,x_test,y_test,Batch_size,layers,learning_rate,beta,lamb,loss,activation_function,iterations)\n",
    "    \n",
    "    elif optimizer == 'nesterov':\n",
    "        Parameters = nesterov_accelerated_gradient_descent(x_train,y_train,x_test,y_test,Batch_size,layers,learning_rate,beta,lamb,loss,activation_function,iterations)\n",
    "\n",
    "    elif optimizer == 'RMS':\n",
    "        Parameters = RMS_prop(x_train,y_train,x_test,y_test,Batch_size,layers,learning_rate,beta,lamb,loss,activation_function,iterations)\n",
    "  \n",
    "    elif optimizer == 'adam':\n",
    "        Parameters = adam(x_train,y_train,x_test,y_test,Batch_size,layers,learning_rate,lamb,loss,activation_function,iterations)\n",
    "\n",
    "    elif optimizer == 'nadam':\n",
    "        Parameters = nadam(x_train,y_train,x_test,y_test,Batch_size,layers,learning_rate,beta,lamb,loss,activation_function,iterations)\n",
    "\n",
    "        \n",
    "        \n",
    "    wandb.run.name =run_name \n",
    "    wandb.run.save()\n",
    "    wandb.run.finish()\n"
   ]
  },
  {
   "cell_type": "code",
   "execution_count": null,
   "id": "a1c5cfaa",
   "metadata": {
    "scrolled": true
   },
   "outputs": [],
   "source": [
    "sweep_config = {\n",
    "    \"name\":\"CS6910 Assignment 1 - Cross Entropy Loss\",\n",
    "    \"Metric\":{\n",
    "        \"name\":\"Validation_accuracy\",\n",
    "        \"goal\":\"maximize\"\n",
    "    },\n",
    "    \"method\":\"random\",\n",
    "    \"parameters\":{\n",
    "        \"learning_rate\":{\n",
    "            \"values\":[0.001,0.0001]\n",
    "        },\n",
    "        \"activation_function\":{\n",
    "            \"values\":[\"sigmoid\",\"ReLu\",\"tanh\"]\n",
    "        },\n",
    "        \"loss\":{\n",
    "            \"values\":[\"cross_entropy\"]\n",
    "        },\n",
    "        \"init_mode\":{\n",
    "            \"values\":[\"Xavier\",\"Random_uniform\",\"Random_normal\"]\n",
    "        },\n",
    "        \"optimizer\":{\n",
    "            \"values\":[\"stochastic\",\"momentum\",\"nesterov\",\"RMS\",\"adam\",\"nadam\"]\n",
    "        },\n",
    "        \"Batch_size\":{\n",
    "        \"values\":[32,64,128]\n",
    "        },\n",
    "        \"iterations\":{\n",
    "            \"values\":[5,10,15,20,30,40]\n",
    "        },\n",
    "        \"lamb\":{\n",
    "            \"values\":[0,0.0005,0.05]\n",
    "        },\n",
    "        \"num_neurons\":{\n",
    "            \"values\":[32,64,128,256]\n",
    "        },\n",
    "        \"num_hidden\":{\n",
    "            \"values\":[1,2,3]\n",
    "        }\n",
    "    }\n",
    "}\n",
    "\n",
    "sweep_id = wandb.sweep(sweep_config,project=\"Question_1\")\n",
    "wandb.agent(sweep_id,Neural_Network,count=500)"
   ]
  },
  {
   "cell_type": "code",
   "execution_count": null,
   "id": "f912f9da",
   "metadata": {},
   "outputs": [],
   "source": [
    "sweep_config = {\n",
    "    \"name\":\"CS6910 Assignment 1 - Cross Entropy Loss\",\n",
    "    \"Metric\":{\n",
    "        \"name\":\"Validation_accuracy\",\n",
    "        \"goal\":\"maximize\"\n",
    "    },\n",
    "    \"method\":\"random\",\n",
    "    \"parameters\":{\n",
    "        \"learning_rate\":{\n",
    "            \"values\":[0.001,0.0001]\n",
    "        },\n",
    "        \"activation_function\":{\n",
    "            \"values\":[\"sigmoid\",\"ReLu\",\"tanh\"]\n",
    "        },\n",
    "        \"loss\":{\n",
    "            \"values\":[\"mse\"]\n",
    "        },\n",
    "        \"init_mode\":{\n",
    "            \"values\":[\"Xavier\",\"Random_uniform\",\"Random_normal\"]\n",
    "        },\n",
    "        \"optimizer\":{\n",
    "            \"values\":[\"stochastic\",\"momentum\",\"nesterov\",\"RMS\",\"adam\",\"nadam\"]\n",
    "        },\n",
    "        \"Batch_size\":{\n",
    "        \"values\":[32,64,128]\n",
    "        },\n",
    "        \"iterations\":{\n",
    "            \"values\":[5,10,15,20,25,30]\n",
    "        },\n",
    "        \"lamb\":{\n",
    "            \"values\":[0,0.0005,0.05]\n",
    "        },\n",
    "        \"num_neurons\":{\n",
    "            \"values\":[32,64,128]\n",
    "        },\n",
    "        \"num_hidden\":{\n",
    "            \"values\":[1,2,3]\n",
    "        }\n",
    "    }\n",
    "}\n",
    "\n",
    "sweep_id = wandb.sweep(sweep_config,project=\"Question_1\")\n",
    "wandb.agent(sweep_id,Neural_Network,count=100)"
   ]
  }
 ],
 "metadata": {
  "kernelspec": {
   "display_name": "Python 3 (ipykernel)",
   "language": "python",
   "name": "python3"
  },
  "language_info": {
   "codemirror_mode": {
    "name": "ipython",
    "version": 3
   },
   "file_extension": ".py",
   "mimetype": "text/x-python",
   "name": "python",
   "nbconvert_exporter": "python",
   "pygments_lexer": "ipython3",
   "version": "3.9.12"
  }
 },
 "nbformat": 4,
 "nbformat_minor": 5
}
